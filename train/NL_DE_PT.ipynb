{
 "cells": [
  {
   "cell_type": "code",
   "execution_count": 5,
   "id": "c2abe9ec-3f9f-47f7-8915-ede502015da1",
   "metadata": {},
   "outputs": [],
   "source": [
    "import pandas as pd\n",
    "from torch.utils.data import Dataset,DataLoader\n",
    "from sentence_transformers import SentenceTransformer , LoggingHandler, losses\n",
    "from scipy.spatial.distance import cosine, euclidean, canberra, braycurtis, chebyshev, cityblock\n",
    "from sklearn.metrics import accuracy_score\n",
    "import matplotlib.pyplot as plt\n",
    "import torch.multiprocessing\n",
    "import networkx as nx\n",
    "import numpy as np\n",
    "from sklearn.metrics import top_k_accuracy_score\n",
    "from datetime import datetime\n",
    "import logging\n",
    "from sentence_transformers.datasets import ParallelSentencesDataset\n",
    "from torch.optim import Adam \n",
    "from datasets import load_metric\n",
    "\n",
    "logging.basicConfig(format='%(asctime)s - %(message)s',\n",
    "                    datefmt='%Y-%m-%d %H:%M:%S',\n",
    "                    level=logging.INFO,\n",
    "                    handlers=[LoggingHandler()])\n",
    "logger = logging.getLogger(__name__)\n",
    "\n",
    "\n",
    "langs = ['en', 'de', 'nl', 'pt', 'es', 'ar']"
   ]
  },
  {
   "cell_type": "code",
   "execution_count": 6,
   "id": "ff3c501e-a56b-4516-952d-d5bcd02942d9",
   "metadata": {},
   "outputs": [],
   "source": [
    "# read csv files"
   ]
  },
  {
   "cell_type": "code",
   "execution_count": 7,
   "id": "fbd298b5-1264-4bd1-b14c-30f7b0dccc4c",
   "metadata": {},
   "outputs": [
    {
     "name": "stderr",
     "output_type": "stream",
     "text": [
      "/tmp/ipykernel_2957312/2189137432.py:4: DtypeWarning: Columns (10,11) have mixed types. Specify dtype option on import or set low_memory=False.\n",
      "  all_occupations = pd.read_csv(base_data_path+'esco_occupations.csv')\n",
      "/tmp/ipykernel_2957312/2189137432.py:6: DtypeWarning: Columns (1,2,3,4,6,7,8,9,10) have mixed types. Specify dtype option on import or set low_memory=False.\n",
      "  graphdf = pd.read_csv(base_data_path+'graphs.csv')\n"
     ]
    }
   ],
   "source": [
    "base_data_path = './model_data/'\n",
    "all_labels = pd.read_csv(base_data_path+'all_labels.csv')\n",
    "all_labels = all_labels[all_labels['lang'].isin(langs)]\n",
    "all_occupations = pd.read_csv(base_data_path+'esco_occupations.csv')\n",
    "all_skills = pd.read_csv(base_data_path+'all_skills.csv')\n",
    "graphdf = pd.read_csv(base_data_path+'graphs.csv')\n",
    "lang_all_occupation = all_occupations.loc[all_occupations['lang'].isin(langs)]\n",
    "lang_occupation_occupations = lang_all_occupation.loc[all_occupations['conceptType']=='Occupation']\n",
    "occ_skill_df = graphdf[graphdf['nodesTypes']=='nonhierarchical-occupation-skill']\n",
    "occ_skill_df = occ_skill_df[occ_skill_df['relationType']=='essential']\n",
    "occ_skill_df = occ_skill_df.groupby('occupationUri')['skillUri'].apply(list).reset_index(name='new')\n",
    "test_df = all_labels"
   ]
  },
  {
   "cell_type": "code",
   "execution_count": 8,
   "id": "d56ee43f-4454-4eec-9318-240cfa40188e",
   "metadata": {},
   "outputs": [],
   "source": [
    "# create skill_texts dictionary that is "
   ]
  },
  {
   "cell_type": "code",
   "execution_count": 9,
   "id": "5fb3d88d-28e4-4d62-b0b1-dd17c4153433",
   "metadata": {},
   "outputs": [],
   "source": [
    "def skill_text(item):\n",
    "    preferredLabel = ''\n",
    "    altLabels = ''\n",
    "    description = ''\n",
    "    if str(item['preferredLabel']) !='nan':\n",
    "        preferredLabel = str(item['preferredLabel'])+' '\n",
    "    if str(item['altLabels']) != 'nan':\n",
    "        altLabels = str(item['altLabels']).replace('\\n',', ')\n",
    "    if str(item['description']) != 'nan':\n",
    "        description = str(item['description'])+' '\n",
    "        # +' '+description+' '+altLabels\n",
    "    return description+' '+altLabels"
   ]
  },
  {
   "cell_type": "code",
   "execution_count": 10,
   "id": "fc8e388b-b5f1-4f62-a21b-154a0b1910e5",
   "metadata": {},
   "outputs": [],
   "source": [
    "# # all_skills = all_skills[all_skills['lang']==lang]\n",
    "# # skill_texts = {}\n",
    "# for idx, row in lang_occupation_occupations.iterrows():\n",
    "#     skill_texts[row['conceptUri']]=''\n",
    "# for idx, occ_skill in occ_skill_df.iterrows():\n",
    "#     skill_uris = occ_skill['new']\n",
    "#     occupationUri = occ_skill['occupationUri']\n",
    "#     skills = all_skills[all_skills['conceptUri'].isin(skill_uris)]\n",
    "#     skill_texts[occupationUri] = ''.join([skill_text(item) for idx,item in skills.iterrows()])\n"
   ]
  },
  {
   "cell_type": "code",
   "execution_count": 11,
   "id": "00f2f655-1022-4618-8339-aef933e876f0",
   "metadata": {},
   "outputs": [],
   "source": [
    "class EscoOccupationsDataset(Dataset):\n",
    "    def __init__(self,conceptUriMapRev,  occupations_df, lang):\n",
    "        self.conceptUriMapRev = conceptUriMapRev\n",
    "        self.occupations = occupations_df.loc[occupations_df['lang']==lang]\n",
    "\n",
    "    def __len__(self):\n",
    "        return len(self.occupations)\n",
    "\n",
    "    def __getitem__(self, idx):\n",
    "        row = self.occupations.iloc[idx]\n",
    "        title = str(row['preferredLabel']).lower()\n",
    "        alternatives = lang_occupation_occupations.iloc[0]['altLabels'].replace('\\n',' , ').lower()\n",
    "        if len(alternatives)>0:\n",
    "            title  = title+' , '+alternatives\n",
    "        description = str(row['description']).replace('\\n',' ').lower()\n",
    "        _id = self.conceptUriMapRev[row['conceptUri']]\n",
    "        return _id, f\"title: {title} \\n description: {description}\""
   ]
  },
  {
   "cell_type": "code",
   "execution_count": 12,
   "id": "7251d9bb-0e02-45a6-9faf-24965c37a879",
   "metadata": {},
   "outputs": [
    {
     "data": {
      "text/plain": [
       "5083"
      ]
     },
     "execution_count": 12,
     "metadata": {},
     "output_type": "execute_result"
    }
   ],
   "source": [
    "from collections import Counter\n",
    " \n",
    "def most_frequent(List):\n",
    "    occurence_count = Counter(List)\n",
    "    return occurence_count.most_common(1)[0][0]\n",
    "test_df = test_df[~test_df['conceptUri'].isna()]\n",
    "stack_descripts = []\n",
    "unsimilar_tests = []\n",
    "for _,row in test_df.iterrows():\n",
    "    if row['description'] not in stack_descripts:\n",
    "        conceptUri = most_frequent(test_df.loc[test_df['description']==row['description']]['conceptUri'])\n",
    "        stack_descripts.append(row['description'])\n",
    "        unsimilar_tests.append({'conceptUri':conceptUri, 'description':row['description'],'preferredLabel':row['title'],'lang':row['lang']})\n",
    "test_df = pd.DataFrame(unsimilar_tests)\n",
    "len(test_df)"
   ]
  },
  {
   "cell_type": "code",
   "execution_count": 13,
   "id": "dcbad7bd-b2d9-459b-abd5-95aca8da0697",
   "metadata": {},
   "outputs": [],
   "source": [
    "test_df = test_df[test_df['conceptUri'].isin(lang_occupation_occupations['conceptUri'].unique())]"
   ]
  },
  {
   "cell_type": "code",
   "execution_count": 18,
   "id": "c5c9ff92-c226-426f-9d2d-809d299c8acb",
   "metadata": {},
   "outputs": [],
   "source": [
    "test_df['text'] = [row['preferredLabel']+'\\n'+row['description'] for idx, row in test_df.iterrows()]\n",
    "lang_occupation_occupations['text']= [str(row['preferredLabel'])+\"\\n\"+str(row['description'])+', '+ str(row['altLabels']).replace('\\n',', ')  for idx, row in lang_occupation_occupations.iterrows()]"
   ]
  },
  {
   "cell_type": "code",
   "execution_count": 19,
   "id": "4d33def3-2548-4ced-baf1-e210607f48b3",
   "metadata": {},
   "outputs": [],
   "source": [
    "lang_occupation_occupations['class'] = list(range(0,len(lang_occupation_occupations)))"
   ]
  },
  {
   "cell_type": "code",
   "execution_count": 22,
   "id": "f1e84dce-0842-4838-ae46-80604e59a4ff",
   "metadata": {},
   "outputs": [],
   "source": [
    "batch_data = []\n",
    "for ids, item in test_df.iterrows():\n",
    "    batch_data.append({'title': item['preferredLabel'],'description':item['description'],'lang':item['lang']})"
   ]
  },
  {
   "cell_type": "code",
   "execution_count": 23,
   "id": "f3b1daa1-e360-4319-abfc-ba09f8a047de",
   "metadata": {},
   "outputs": [],
   "source": [
    "labels = []\n",
    "for ids, item in test_df.iterrows():\n",
    "    conceptUri = item['conceptUri']\n",
    "    class_id = lang_occupation_occupations[lang_occupation_occupations['conceptUri']==conceptUri].iloc[0]['class']\n",
    "    labels.append(class_id)\n",
    "y_true = np.array(labels)"
   ]
  },
  {
   "cell_type": "code",
   "execution_count": 24,
   "id": "ec9d942f-da30-4559-b87f-14782b857edb",
   "metadata": {},
   "outputs": [],
   "source": [
    "def get_sentece(title, description):\n",
    "    return f\"{title} {description}\"\n"
   ]
  },
  {
   "cell_type": "code",
   "execution_count": 44,
   "id": "ab0a6218-5b34-4738-ad53-81686b6e20fe",
   "metadata": {},
   "outputs": [],
   "source": [
    "# suppose that esco occupation and skill in different languages have same meaning so the embedding of them are equals.\n",
    "# so by this assumption we create dataset and train model and make pretrain embeder more powerful"
   ]
  },
  {
   "cell_type": "code",
   "execution_count": 25,
   "id": "db6061d2-8630-471d-94f4-ac12fcac8442",
   "metadata": {},
   "outputs": [],
   "source": [
    "sentences = []\n",
    "esco_occupations = pd.read_csv(base_data_path+'all_occupations.csv')\n",
    "en_esco_occupations = esco_occupations.loc[esco_occupations['lang']=='en'].copy()\n",
    "en_esco_occupations = en_esco_occupations.rename(columns={'description':'en_description'})\n",
    "esco_skills = pd.read_csv(base_data_path+'all_skills.csv')\n",
    "en_esco_skills = esco_skills.loc[esco_skills['lang']=='en'].copy()\n",
    "en_esco_skills = en_esco_skills.rename(columns={'description':'en_description'})\n",
    "\n",
    "for lang in langs:\n",
    "    other_lang_esco_occupations = esco_occupations.loc[esco_occupations['lang']==lang].copy()\n",
    "    other_lang_esco_occupations = other_lang_esco_occupations.rename(columns={'description':'other_description'})\n",
    "    other_lang_esco_occupations = pd.merge(en_esco_occupations, other_lang_esco_occupations, on='conceptUri')\n",
    "    other_lang_esco_skills = esco_skills.loc[esco_skills['lang']==lang].copy()\n",
    "    other_lang_esco_skills = other_lang_esco_skills.rename(columns={'description':'other_description'})\n",
    "    other_lang_esco_skills = pd.merge(en_esco_skills, other_lang_esco_skills, on='conceptUri')\n",
    "    for idx, row in other_lang_esco_occupations.iterrows():\n",
    "        sentences.append([get_sentece(row['preferredLabel_x'], row['en_description']),get_sentece(row['preferredLabel_y'], row['other_description'])])\n",
    "    for idx, row in other_lang_esco_skills.iterrows():\n",
    "        sentences.append([get_sentece(row['preferredLabel_x'], row['en_description']),get_sentece(row['preferredLabel_y'], row['other_description'])])"
   ]
  },
  {
   "cell_type": "code",
   "execution_count": 26,
   "id": "1c5624a3-d62e-4858-9cdb-0689b158a5d3",
   "metadata": {},
   "outputs": [
    {
     "data": {
      "text/plain": [
       "107951"
      ]
     },
     "execution_count": 26,
     "metadata": {},
     "output_type": "execute_result"
    }
   ],
   "source": [
    "len(sentences)"
   ]
  },
  {
   "cell_type": "code",
   "execution_count": 27,
   "id": "196b25c8-c57d-4341-b24f-72ef5225eeef",
   "metadata": {},
   "outputs": [
    {
     "name": "stdout",
     "output_type": "stream",
     "text": [
      "2022-04-30 22:23:09 - Load teacher model\n",
      "2022-04-30 22:23:09 - Load pretrained SentenceTransformer: paraphrase-multilingual-mpnet-base-v2\n",
      "2022-04-30 22:23:20 - Create student model from scratch\n",
      "2022-04-30 22:23:20 - Load pretrained SentenceTransformer: paraphrase-multilingual-mpnet-base-v2\n"
     ]
    },
    {
     "name": "stderr",
     "output_type": "stream",
     "text": [
      "/home/arash/skillsoccupations/env/lib/python3.8/site-packages/transformers/optimization.py:306: FutureWarning: This implementation of AdamW is deprecated and will be removed in a future version. Use the PyTorch implementation torch.optim.AdamW instead, or set `no_deprecation_warning=True` to disable this warning\n",
      "  warnings.warn(\n"
     ]
    },
    {
     "data": {
      "application/vnd.jupyter.widget-view+json": {
       "model_id": "db4e3668091344fead1a927de12b4b7c",
       "version_major": 2,
       "version_minor": 0
      },
      "text/plain": [
       "Epoch:   0%|          | 0/40 [00:00<?, ?it/s]"
      ]
     },
     "metadata": {},
     "output_type": "display_data"
    },
    {
     "data": {
      "application/vnd.jupyter.widget-view+json": {
       "model_id": "9ccd5913d04342e1a2546dea38e9a8ca",
       "version_major": 2,
       "version_minor": 0
      },
      "text/plain": [
       "Iteration:   0%|          | 0/640 [00:00<?, ?it/s]"
      ]
     },
     "metadata": {},
     "output_type": "display_data"
    },
    {
     "name": "stderr",
     "output_type": "stream",
     "text": [
      "/home/arash/skillsoccupations/env/lib/python3.8/site-packages/sentence_transformers/SentenceTransformer.py:537: UserWarning: Creating a tensor from a list of numpy.ndarrays is extremely slow. Please consider converting the list to a single numpy.ndarray with numpy.array() before converting to a tensor. (Triggered internally at  ../torch/csrc/utils/tensor_new.cpp:210.)\n",
      "  labels = torch.tensor(labels).to(self._target_device)\n"
     ]
    },
    {
     "data": {
      "application/vnd.jupyter.widget-view+json": {
       "model_id": "210e317ce68c4ff6955e704d65249743",
       "version_major": 2,
       "version_minor": 0
      },
      "text/plain": [
       "Iteration:   0%|          | 0/640 [00:00<?, ?it/s]"
      ]
     },
     "metadata": {},
     "output_type": "display_data"
    },
    {
     "data": {
      "application/vnd.jupyter.widget-view+json": {
       "model_id": "4fdf7ca7ace94e86b0674cdca4047bae",
       "version_major": 2,
       "version_minor": 0
      },
      "text/plain": [
       "Iteration:   0%|          | 0/640 [00:00<?, ?it/s]"
      ]
     },
     "metadata": {},
     "output_type": "display_data"
    },
    {
     "data": {
      "application/vnd.jupyter.widget-view+json": {
       "model_id": "b1d80fee0e2d462eb935ddd96877daf0",
       "version_major": 2,
       "version_minor": 0
      },
      "text/plain": [
       "Iteration:   0%|          | 0/640 [00:00<?, ?it/s]"
      ]
     },
     "metadata": {},
     "output_type": "display_data"
    },
    {
     "data": {
      "application/vnd.jupyter.widget-view+json": {
       "model_id": "354536dcf2cb44838d5ba9cc2e3f6555",
       "version_major": 2,
       "version_minor": 0
      },
      "text/plain": [
       "Iteration:   0%|          | 0/640 [00:00<?, ?it/s]"
      ]
     },
     "metadata": {},
     "output_type": "display_data"
    },
    {
     "data": {
      "application/vnd.jupyter.widget-view+json": {
       "model_id": "c56df461dd5a473f843e51c91b58e5c6",
       "version_major": 2,
       "version_minor": 0
      },
      "text/plain": [
       "Iteration:   0%|          | 0/640 [00:00<?, ?it/s]"
      ]
     },
     "metadata": {},
     "output_type": "display_data"
    },
    {
     "data": {
      "application/vnd.jupyter.widget-view+json": {
       "model_id": "8918b5c50cf849ee810b84283d6e26c6",
       "version_major": 2,
       "version_minor": 0
      },
      "text/plain": [
       "Iteration:   0%|          | 0/640 [00:00<?, ?it/s]"
      ]
     },
     "metadata": {},
     "output_type": "display_data"
    },
    {
     "data": {
      "application/vnd.jupyter.widget-view+json": {
       "model_id": "ca5a3e1b39094b44a5c4fb5b99e0b9c9",
       "version_major": 2,
       "version_minor": 0
      },
      "text/plain": [
       "Iteration:   0%|          | 0/640 [00:00<?, ?it/s]"
      ]
     },
     "metadata": {},
     "output_type": "display_data"
    },
    {
     "data": {
      "application/vnd.jupyter.widget-view+json": {
       "model_id": "2b46e9e614e8450e968927728791fb4f",
       "version_major": 2,
       "version_minor": 0
      },
      "text/plain": [
       "Iteration:   0%|          | 0/640 [00:00<?, ?it/s]"
      ]
     },
     "metadata": {},
     "output_type": "display_data"
    },
    {
     "data": {
      "application/vnd.jupyter.widget-view+json": {
       "model_id": "eaff0d6427b04ba49eb5d2b015824827",
       "version_major": 2,
       "version_minor": 0
      },
      "text/plain": [
       "Iteration:   0%|          | 0/640 [00:00<?, ?it/s]"
      ]
     },
     "metadata": {},
     "output_type": "display_data"
    },
    {
     "data": {
      "application/vnd.jupyter.widget-view+json": {
       "model_id": "15eaa8d7c4674f4cb3afc9c791ee6107",
       "version_major": 2,
       "version_minor": 0
      },
      "text/plain": [
       "Iteration:   0%|          | 0/640 [00:00<?, ?it/s]"
      ]
     },
     "metadata": {},
     "output_type": "display_data"
    },
    {
     "data": {
      "application/vnd.jupyter.widget-view+json": {
       "model_id": "d178fd120ade470195f2f3d7fcde9500",
       "version_major": 2,
       "version_minor": 0
      },
      "text/plain": [
       "Iteration:   0%|          | 0/640 [00:00<?, ?it/s]"
      ]
     },
     "metadata": {},
     "output_type": "display_data"
    },
    {
     "data": {
      "application/vnd.jupyter.widget-view+json": {
       "model_id": "04913c51a8684b0d91b2b09705dfc3f2",
       "version_major": 2,
       "version_minor": 0
      },
      "text/plain": [
       "Iteration:   0%|          | 0/640 [00:00<?, ?it/s]"
      ]
     },
     "metadata": {},
     "output_type": "display_data"
    },
    {
     "data": {
      "application/vnd.jupyter.widget-view+json": {
       "model_id": "2a5c9364d9584f0596e088ce701b4023",
       "version_major": 2,
       "version_minor": 0
      },
      "text/plain": [
       "Iteration:   0%|          | 0/640 [00:00<?, ?it/s]"
      ]
     },
     "metadata": {},
     "output_type": "display_data"
    },
    {
     "data": {
      "application/vnd.jupyter.widget-view+json": {
       "model_id": "1a64f4914f9b492080bccb7fd1686aa4",
       "version_major": 2,
       "version_minor": 0
      },
      "text/plain": [
       "Iteration:   0%|          | 0/640 [00:00<?, ?it/s]"
      ]
     },
     "metadata": {},
     "output_type": "display_data"
    },
    {
     "data": {
      "application/vnd.jupyter.widget-view+json": {
       "model_id": "0b28a9358b894ec1a8056d6b8f3af9df",
       "version_major": 2,
       "version_minor": 0
      },
      "text/plain": [
       "Iteration:   0%|          | 0/640 [00:00<?, ?it/s]"
      ]
     },
     "metadata": {},
     "output_type": "display_data"
    },
    {
     "data": {
      "application/vnd.jupyter.widget-view+json": {
       "model_id": "7da0516d61a645b3b2c66d8f2cdfa149",
       "version_major": 2,
       "version_minor": 0
      },
      "text/plain": [
       "Iteration:   0%|          | 0/640 [00:00<?, ?it/s]"
      ]
     },
     "metadata": {},
     "output_type": "display_data"
    },
    {
     "data": {
      "application/vnd.jupyter.widget-view+json": {
       "model_id": "bef8c1ac8a8b4d3b95c0098cc48d986c",
       "version_major": 2,
       "version_minor": 0
      },
      "text/plain": [
       "Iteration:   0%|          | 0/640 [00:00<?, ?it/s]"
      ]
     },
     "metadata": {},
     "output_type": "display_data"
    },
    {
     "data": {
      "application/vnd.jupyter.widget-view+json": {
       "model_id": "70d26ede444142d194b583b9c2794b69",
       "version_major": 2,
       "version_minor": 0
      },
      "text/plain": [
       "Iteration:   0%|          | 0/640 [00:00<?, ?it/s]"
      ]
     },
     "metadata": {},
     "output_type": "display_data"
    },
    {
     "data": {
      "application/vnd.jupyter.widget-view+json": {
       "model_id": "4f23a4a88090434e8949beec360b2fe5",
       "version_major": 2,
       "version_minor": 0
      },
      "text/plain": [
       "Iteration:   0%|          | 0/640 [00:00<?, ?it/s]"
      ]
     },
     "metadata": {},
     "output_type": "display_data"
    },
    {
     "data": {
      "application/vnd.jupyter.widget-view+json": {
       "model_id": "e2020333718046998f68ef698659a63a",
       "version_major": 2,
       "version_minor": 0
      },
      "text/plain": [
       "Iteration:   0%|          | 0/640 [00:00<?, ?it/s]"
      ]
     },
     "metadata": {},
     "output_type": "display_data"
    },
    {
     "data": {
      "application/vnd.jupyter.widget-view+json": {
       "model_id": "144a5ac76ab44c2799823bc03f45458e",
       "version_major": 2,
       "version_minor": 0
      },
      "text/plain": [
       "Iteration:   0%|          | 0/640 [00:00<?, ?it/s]"
      ]
     },
     "metadata": {},
     "output_type": "display_data"
    },
    {
     "data": {
      "application/vnd.jupyter.widget-view+json": {
       "model_id": "e1359cdc75fd48f1b23ebe9ceff2a997",
       "version_major": 2,
       "version_minor": 0
      },
      "text/plain": [
       "Iteration:   0%|          | 0/640 [00:00<?, ?it/s]"
      ]
     },
     "metadata": {},
     "output_type": "display_data"
    },
    {
     "data": {
      "application/vnd.jupyter.widget-view+json": {
       "model_id": "a230a96ec3b84908b5e0d84602d47d0e",
       "version_major": 2,
       "version_minor": 0
      },
      "text/plain": [
       "Iteration:   0%|          | 0/640 [00:00<?, ?it/s]"
      ]
     },
     "metadata": {},
     "output_type": "display_data"
    },
    {
     "data": {
      "application/vnd.jupyter.widget-view+json": {
       "model_id": "b8379bbecb00436582d6a059040400ec",
       "version_major": 2,
       "version_minor": 0
      },
      "text/plain": [
       "Iteration:   0%|          | 0/640 [00:00<?, ?it/s]"
      ]
     },
     "metadata": {},
     "output_type": "display_data"
    },
    {
     "data": {
      "application/vnd.jupyter.widget-view+json": {
       "model_id": "3e20667a74cf4b43a7d5be86f9f4ad57",
       "version_major": 2,
       "version_minor": 0
      },
      "text/plain": [
       "Iteration:   0%|          | 0/640 [00:00<?, ?it/s]"
      ]
     },
     "metadata": {},
     "output_type": "display_data"
    },
    {
     "data": {
      "application/vnd.jupyter.widget-view+json": {
       "model_id": "e070849753a841bd8ad550feeb102c1f",
       "version_major": 2,
       "version_minor": 0
      },
      "text/plain": [
       "Iteration:   0%|          | 0/640 [00:00<?, ?it/s]"
      ]
     },
     "metadata": {},
     "output_type": "display_data"
    },
    {
     "data": {
      "application/vnd.jupyter.widget-view+json": {
       "model_id": "786cbb0b40a7436382d303a360be2122",
       "version_major": 2,
       "version_minor": 0
      },
      "text/plain": [
       "Iteration:   0%|          | 0/640 [00:00<?, ?it/s]"
      ]
     },
     "metadata": {},
     "output_type": "display_data"
    },
    {
     "data": {
      "application/vnd.jupyter.widget-view+json": {
       "model_id": "8abac52c62734b00a9124681fe22188b",
       "version_major": 2,
       "version_minor": 0
      },
      "text/plain": [
       "Iteration:   0%|          | 0/640 [00:00<?, ?it/s]"
      ]
     },
     "metadata": {},
     "output_type": "display_data"
    },
    {
     "data": {
      "application/vnd.jupyter.widget-view+json": {
       "model_id": "7f80e04909e24050a1fee0fea5125d48",
       "version_major": 2,
       "version_minor": 0
      },
      "text/plain": [
       "Iteration:   0%|          | 0/640 [00:00<?, ?it/s]"
      ]
     },
     "metadata": {},
     "output_type": "display_data"
    },
    {
     "data": {
      "application/vnd.jupyter.widget-view+json": {
       "model_id": "7ccbcf9828ea4eb4bf6aa96fa322d0f7",
       "version_major": 2,
       "version_minor": 0
      },
      "text/plain": [
       "Iteration:   0%|          | 0/640 [00:00<?, ?it/s]"
      ]
     },
     "metadata": {},
     "output_type": "display_data"
    },
    {
     "data": {
      "application/vnd.jupyter.widget-view+json": {
       "model_id": "eed7e45fc5a1400b879e61ad1280611c",
       "version_major": 2,
       "version_minor": 0
      },
      "text/plain": [
       "Iteration:   0%|          | 0/640 [00:00<?, ?it/s]"
      ]
     },
     "metadata": {},
     "output_type": "display_data"
    },
    {
     "data": {
      "application/vnd.jupyter.widget-view+json": {
       "model_id": "88f73132f8c64698b07d654f600ad653",
       "version_major": 2,
       "version_minor": 0
      },
      "text/plain": [
       "Iteration:   0%|          | 0/640 [00:00<?, ?it/s]"
      ]
     },
     "metadata": {},
     "output_type": "display_data"
    },
    {
     "data": {
      "application/vnd.jupyter.widget-view+json": {
       "model_id": "86acfb5927214fbeb1fdb9a76ee61ad7",
       "version_major": 2,
       "version_minor": 0
      },
      "text/plain": [
       "Iteration:   0%|          | 0/640 [00:00<?, ?it/s]"
      ]
     },
     "metadata": {},
     "output_type": "display_data"
    },
    {
     "data": {
      "application/vnd.jupyter.widget-view+json": {
       "model_id": "e9079571842a4daf89684ec361c1440f",
       "version_major": 2,
       "version_minor": 0
      },
      "text/plain": [
       "Iteration:   0%|          | 0/640 [00:00<?, ?it/s]"
      ]
     },
     "metadata": {},
     "output_type": "display_data"
    },
    {
     "data": {
      "application/vnd.jupyter.widget-view+json": {
       "model_id": "951f91e4060d4e4b808fb784a8b47c30",
       "version_major": 2,
       "version_minor": 0
      },
      "text/plain": [
       "Iteration:   0%|          | 0/640 [00:00<?, ?it/s]"
      ]
     },
     "metadata": {},
     "output_type": "display_data"
    },
    {
     "data": {
      "application/vnd.jupyter.widget-view+json": {
       "model_id": "537a3356f7f44837a373abc9d1090688",
       "version_major": 2,
       "version_minor": 0
      },
      "text/plain": [
       "Iteration:   0%|          | 0/640 [00:00<?, ?it/s]"
      ]
     },
     "metadata": {},
     "output_type": "display_data"
    },
    {
     "data": {
      "application/vnd.jupyter.widget-view+json": {
       "model_id": "4aed3adfe1d944ef8a88ea08066ff236",
       "version_major": 2,
       "version_minor": 0
      },
      "text/plain": [
       "Iteration:   0%|          | 0/640 [00:00<?, ?it/s]"
      ]
     },
     "metadata": {},
     "output_type": "display_data"
    },
    {
     "data": {
      "application/vnd.jupyter.widget-view+json": {
       "model_id": "93b31d0d0776417b8d15d3ee87d5d6fd",
       "version_major": 2,
       "version_minor": 0
      },
      "text/plain": [
       "Iteration:   0%|          | 0/640 [00:00<?, ?it/s]"
      ]
     },
     "metadata": {},
     "output_type": "display_data"
    },
    {
     "data": {
      "application/vnd.jupyter.widget-view+json": {
       "model_id": "50ee9e1101b54bb8bc6d94259a44ea8a",
       "version_major": 2,
       "version_minor": 0
      },
      "text/plain": [
       "Iteration:   0%|          | 0/640 [00:00<?, ?it/s]"
      ]
     },
     "metadata": {},
     "output_type": "display_data"
    },
    {
     "name": "stdout",
     "output_type": "stream",
     "text": [
      "2022-05-01 00:09:27 - Save model to output/make-multilingual-en-de-en-nl-2022-04-30_22-23-09\n"
     ]
    }
   ],
   "source": [
    "# train model\n",
    "device = 'cuda:1'\n",
    "for num_epochs in [40]:\n",
    "    teacher_model_name = 'paraphrase-multilingual-mpnet-base-v2'   #Our monolingual teacher model, we want to convert to multiple languages\n",
    "    student_model_name = 'paraphrase-multilingual-mpnet-base-v2'       #Multilingual base model we use to imitate the teacher model\n",
    "\n",
    "\n",
    "    max_seq_length = 256                #Student model max. lengths for inputs (number of word pieces)\n",
    "    train_batch_size = 128               #Batch size for training\n",
    "    inference_batch_size = 128           #Batch size at inference\n",
    "    max_sentences_per_language = 500000 #Maximum number of  parallel sentences for training\n",
    "    train_max_sentence_length = 256     #Maximum length (characters) for parallel training sentences\n",
    "\n",
    "    num_warmup_steps = 1000             #Warumup steps\n",
    "\n",
    "    num_evaluation_steps = 1000          #Evaluate performance after every xxxx steps\n",
    "    dev_sentences = 1000                 #Number of parallel sentences to be used for development\n",
    "\n",
    "\n",
    "    # Define the language codes you would like to extend the model to\n",
    "    source_languages = set(['en'])                      # Our teacher model accepts English (en) sentences\n",
    "    target_languages = set(['en','nl','de'])    # We want to extend the model to these new languages. For language codes, see the header of the train file\n",
    "\n",
    "\n",
    "    output_path = \"output/make-multilingual-\"+\"-\".join(sorted(list(source_languages))+sorted(list(target_languages)))+\"-\"+datetime.now().strftime(\"%Y-%m-%d_%H-%M-%S\")\n",
    "\n",
    "\n",
    "    logger.info(\"Load teacher model\")\n",
    "    teacher_model = SentenceTransformer(teacher_model_name,device=device)\n",
    "\n",
    "\n",
    "    logger.info(\"Create student model from scratch\")\n",
    "\n",
    "    student_model = SentenceTransformer(student_model_name,device=device)\n",
    "\n",
    "\n",
    "    ###### Read Parallel Sentences Dataset ######\n",
    "    train_data = ParallelSentencesDataset(student_model=student_model, teacher_model=teacher_model, batch_size=inference_batch_size, use_embedding_cache=True)\n",
    "    train_data.add_dataset(parallel_sentences=sentences, max_sentences=max_sentences_per_language, max_sentence_length=train_max_sentence_length)\n",
    "\n",
    "    train_dataloader = DataLoader(train_data, shuffle=True, batch_size=train_batch_size)\n",
    "    train_loss = losses.MSELoss(model=student_model)\n",
    "\n",
    "\n",
    "\n",
    "\n",
    "    # Train the model\n",
    "    student_model.fit(train_objectives=[(train_dataloader, train_loss)],\n",
    "              epochs=num_epochs,\n",
    "              warmup_steps=num_warmup_steps,\n",
    "              output_path=output_path,\n",
    "              save_best_model=True,\n",
    "              optimizer_params= {'lr': 2e-5, 'eps': 1e-6, 'correct_bias': False}\n",
    "              )\n",
    "\n"
   ]
  },
  {
   "cell_type": "code",
   "execution_count": null,
   "id": "56c6a6ee-9099-43b0-8b87-ae07efdb65fc",
   "metadata": {},
   "outputs": [],
   "source": [
    "# for good embeder one classifier layer is enough"
   ]
  },
  {
   "cell_type": "code",
   "execution_count": 48,
   "id": "5811beff-2b13-4aaf-8ef4-9c39c1689b70",
   "metadata": {},
   "outputs": [],
   "source": [
    "from torch.utils.data import TensorDataset\n",
    "import torch\n",
    "\n",
    "class TinyModel(torch.nn.Module):\n",
    "\n",
    "    def __init__(self, embed_dim, num_class):\n",
    "        super(TinyModel, self).__init__()\n",
    "        self.fc1 = torch.nn.Linear(embed_dim, num_class)\n",
    "        # self.fc1 = nn.Linear(embed_dim, hidden_size)\n",
    "        # self.fc2 = nn.Linear(hidden_size, num_class)\n",
    "        self.init_weights()\n",
    "        \n",
    "    def init_weights(self):\n",
    "        initrange = 0.5\n",
    "        self.fc1.weight.data.uniform_(-initrange, initrange)\n",
    "        self.fc1.bias.data.zero_()\n",
    "        # self.fc2.weight.data.uniform_(-initrange, initrange)\n",
    "        # self.fc2.bias.data.zero_()\n",
    "\n",
    "    def forward(self, embedded):\n",
    "        x = self.fc1(embedded)\n",
    "        # x = F.relu(x)\n",
    "        # x = self.fc2(x)\n",
    "        return x\n",
    "\n",
    "class EmbededDataset(torch.utils.data.Dataset):\n",
    "    def __init__(self, embeds, labels):\n",
    "        self.embeds = embeds\n",
    "        self.labels = labels\n",
    "\n",
    "    def __getitem__(self, idx):\n",
    "        return torch.tensor(self.embeds[idx]), torch.tensor(self.labels[idx])\n",
    "\n",
    "    def __len__(self):\n",
    "        return len(self.labels)\n"
   ]
  },
  {
   "cell_type": "code",
   "execution_count": 49,
   "id": "d90d5795-8d14-486e-aa95-6125c498980f",
   "metadata": {},
   "outputs": [],
   "source": [
    "def train(model, train_loader, test_loader, num_class ,device='cuda:0',learning_rate=4e-4,epoch_num=30,best_ouput='ouput'):\n",
    "    model.to(device)\n",
    "    model.train()\n",
    "    optim = Adam(model.parameters(), lr=learning_rate)\n",
    "    criterion = torch.nn.CrossEntropyLoss()\n",
    "    best_model = None\n",
    "    best_topk = 0\n",
    "    for epoch in range(epoch_num):\n",
    "        model.train()\n",
    "        train_loss = 0\n",
    "        for embeds, class_idx in train_loader:\n",
    "            optim.zero_grad()    \n",
    "            embeds = embeds.to(device)\n",
    "            class_idx = class_idx.to(device)\n",
    "            outputs = model(embeds)\n",
    "            loss = criterion(outputs, class_idx)\n",
    "            train_loss += outputs.shape[0] *loss.item()\n",
    "            loss.backward()\n",
    "            optim.step()\n",
    "\n",
    "        all_outputs = []\n",
    "        model.eval()\n",
    "        topk = 0\n",
    "        k = 5\n",
    "        metric = load_metric(\"accuracy\")\n",
    "        with torch.no_grad():\n",
    "            for embeds, class_idx in test_loader:\n",
    "                embeds = embeds.to(device)\n",
    "                class_idx = class_idx.to(device)\n",
    "                outputs = model(embeds)\n",
    "\n",
    "                # logits = outputs.logits\n",
    "                predictions = torch.argmax(outputs, dim=-1)\n",
    "                y_scores = outputs.cpu().detach().numpy()\n",
    "                y_true = class_idx.cpu().detach().numpy()\n",
    "                topk += top_k_accuracy_score(y_true,y_scores,k=k,labels=np.arange(num_class ))\n",
    "                metric.add_batch(predictions=predictions, references=class_idx)\n",
    "        topk_res = topk/len(test_loader)\n",
    "        print(f'top {k} accuracy={topk_res}',metric.compute(), f'epoch ={epoch} , train loss = {train_loss/len(train_loader)}')\n",
    "        if topk_res>best_topk:\n",
    "            best_topk = topk_res\n",
    "            st = model.state_dict()\n",
    "    torch.save(st, best_ouput)\n"
   ]
  },
  {
   "cell_type": "code",
   "execution_count": 28,
   "id": "e96abc12-1c49-41ad-97c7-62e5595c13ae",
   "metadata": {},
   "outputs": [
    {
     "data": {
      "text/html": [
       "<div>\n",
       "<style scoped>\n",
       "    .dataframe tbody tr th:only-of-type {\n",
       "        vertical-align: middle;\n",
       "    }\n",
       "\n",
       "    .dataframe tbody tr th {\n",
       "        vertical-align: top;\n",
       "    }\n",
       "\n",
       "    .dataframe thead th {\n",
       "        text-align: right;\n",
       "    }\n",
       "</style>\n",
       "<table border=\"1\" class=\"dataframe\">\n",
       "  <thead>\n",
       "    <tr style=\"text-align: right;\">\n",
       "      <th></th>\n",
       "      <th>Unnamed: 0</th>\n",
       "      <th>project_name</th>\n",
       "      <th>description</th>\n",
       "      <th>title</th>\n",
       "      <th>occupation_title</th>\n",
       "      <th>occupation_id</th>\n",
       "      <th>task_id</th>\n",
       "      <th>iscoGroup</th>\n",
       "      <th>conceptUri</th>\n",
       "      <th>isco_preferredLabel</th>\n",
       "      <th>altLabels</th>\n",
       "      <th>isco_description</th>\n",
       "      <th>lang</th>\n",
       "      <th>text</th>\n",
       "    </tr>\n",
       "  </thead>\n",
       "  <tbody>\n",
       "    <tr>\n",
       "      <th>0</th>\n",
       "      <td>0</td>\n",
       "      <td>GBR</td>\n",
       "      <td>Are you ready to find a new direction where yo...</td>\n",
       "      <td>Entry Level Sales Assistant</td>\n",
       "      <td>sales assistant</td>\n",
       "      <td>1864</td>\n",
       "      <td>61dde40c527776b760a85fa0</td>\n",
       "      <td>5223.0</td>\n",
       "      <td>http://data.europa.eu/esco/occupation/9ba74e8a...</td>\n",
       "      <td>sales assistant</td>\n",
       "      <td>senior sales assistant\\nsupermarket sales assi...</td>\n",
       "      <td>Sales assistants represent the direct contact ...</td>\n",
       "      <td>en</td>\n",
       "      <td>Entry Level Sales Assistant\\nAre you ready to ...</td>\n",
       "    </tr>\n",
       "  </tbody>\n",
       "</table>\n",
       "</div>"
      ],
      "text/plain": [
       "   Unnamed: 0 project_name                                        description  \\\n",
       "0           0          GBR  Are you ready to find a new direction where yo...   \n",
       "\n",
       "                         title occupation_title  occupation_id  \\\n",
       "0  Entry Level Sales Assistant  sales assistant           1864   \n",
       "\n",
       "                    task_id  iscoGroup  \\\n",
       "0  61dde40c527776b760a85fa0     5223.0   \n",
       "\n",
       "                                          conceptUri isco_preferredLabel  \\\n",
       "0  http://data.europa.eu/esco/occupation/9ba74e8a...     sales assistant   \n",
       "\n",
       "                                           altLabels  \\\n",
       "0  senior sales assistant\\nsupermarket sales assi...   \n",
       "\n",
       "                                    isco_description lang  \\\n",
       "0  Sales assistants represent the direct contact ...   en   \n",
       "\n",
       "                                                text  \n",
       "0  Entry Level Sales Assistant\\nAre you ready to ...  "
      ]
     },
     "execution_count": 28,
     "metadata": {},
     "output_type": "execute_result"
    }
   ],
   "source": [
    "test_df.head(1)"
   ]
  },
  {
   "cell_type": "code",
   "execution_count": 39,
   "id": "962b73ac-39ab-4902-92a9-553a423840de",
   "metadata": {},
   "outputs": [],
   "source": [
    "# because different language have same embeds so we can use label data in different laguage. \n",
    "# by defining target language labeled data in other laguage will be train data.\n",
    "# we also use esco data as training data"
   ]
  },
  {
   "cell_type": "code",
   "execution_count": 30,
   "id": "124f422a-8a7f-4145-807d-ba18933e7109",
   "metadata": {},
   "outputs": [],
   "source": [
    "esco_oc = esco_occupations.copy()\n",
    "esco_oc['text'] = str(esco_oc['preferredLabel'] + \"\\n\"+ esco_oc['description'])  "
   ]
  },
  {
   "cell_type": "code",
   "execution_count": 31,
   "id": "5e78f120-dfc4-455e-96e3-af43a12e06bd",
   "metadata": {},
   "outputs": [],
   "source": [
    "esco_oc['type']='esco'\n",
    "all_labeled=test_df.copy()\n",
    "all_labeled['type'] = 'annotated'\n",
    "all_labeled = all_labeled.rename(columns={'title':'preferredLabel'})"
   ]
  },
  {
   "cell_type": "code",
   "execution_count": 32,
   "id": "2f153203-ec16-4919-9aa7-8e2c9467dfe5",
   "metadata": {},
   "outputs": [
    {
     "data": {
      "text/html": [
       "<div>\n",
       "<style scoped>\n",
       "    .dataframe tbody tr th:only-of-type {\n",
       "        vertical-align: middle;\n",
       "    }\n",
       "\n",
       "    .dataframe tbody tr th {\n",
       "        vertical-align: top;\n",
       "    }\n",
       "\n",
       "    .dataframe thead th {\n",
       "        text-align: right;\n",
       "    }\n",
       "</style>\n",
       "<table border=\"1\" class=\"dataframe\">\n",
       "  <thead>\n",
       "    <tr style=\"text-align: right;\">\n",
       "      <th></th>\n",
       "      <th>conceptUri</th>\n",
       "      <th>description</th>\n",
       "      <th>preferredLabel</th>\n",
       "      <th>lang</th>\n",
       "      <th>text</th>\n",
       "      <th>type</th>\n",
       "    </tr>\n",
       "  </thead>\n",
       "  <tbody>\n",
       "    <tr>\n",
       "      <th>0</th>\n",
       "      <td>http://data.europa.eu/esco/occupation/9ba74e8a...</td>\n",
       "      <td>Are you ready to find a new direction where yo...</td>\n",
       "      <td>Entry Level Sales Assistant</td>\n",
       "      <td>en</td>\n",
       "      <td>Entry Level Sales Assistant\\nAre you ready to ...</td>\n",
       "      <td>annotated</td>\n",
       "    </tr>\n",
       "  </tbody>\n",
       "</table>\n",
       "</div>"
      ],
      "text/plain": [
       "                                          conceptUri  \\\n",
       "0  http://data.europa.eu/esco/occupation/9ba74e8a...   \n",
       "\n",
       "                                         description  \\\n",
       "0  Are you ready to find a new direction where yo...   \n",
       "\n",
       "                preferredLabel lang  \\\n",
       "0  Entry Level Sales Assistant   en   \n",
       "\n",
       "                                                text       type  \n",
       "0  Entry Level Sales Assistant\\nAre you ready to ...  annotated  "
      ]
     },
     "execution_count": 32,
     "metadata": {},
     "output_type": "execute_result"
    }
   ],
   "source": [
    "all_labeled.head(1)"
   ]
  },
  {
   "cell_type": "code",
   "execution_count": 33,
   "id": "eff9b3c1-4e52-4f8a-a3b2-ee0a4a0e6d05",
   "metadata": {},
   "outputs": [],
   "source": [
    "concated_data_df = pd.concat([all_labeled[['conceptUri','text','lang','preferredLabel','type']], esco_oc[['conceptUri','text','lang','preferredLabel','type']]], axis=0)"
   ]
  },
  {
   "cell_type": "code",
   "execution_count": 34,
   "id": "8952af5d-079f-4512-ad19-972af334817e",
   "metadata": {},
   "outputs": [
    {
     "data": {
      "text/plain": [
       "32951"
      ]
     },
     "execution_count": 34,
     "metadata": {},
     "output_type": "execute_result"
    }
   ],
   "source": [
    "len(concated_data_df)"
   ]
  },
  {
   "cell_type": "code",
   "execution_count": 35,
   "id": "dc405dac-b98e-4ca8-b600-5720795ecbac",
   "metadata": {},
   "outputs": [],
   "source": [
    "conceptUries = all_occupations[all_occupations['lang']=='en']['conceptUri'].tolist()\n",
    "concated_data_df = concated_data_df[concated_data_df['conceptUri'].isin(conceptUries)]"
   ]
  },
  {
   "cell_type": "code",
   "execution_count": 36,
   "id": "e2c43e2b-1c92-44ed-b6cc-7dfdb8d25082",
   "metadata": {},
   "outputs": [
    {
     "data": {
      "text/html": [
       "<div>\n",
       "<style scoped>\n",
       "    .dataframe tbody tr th:only-of-type {\n",
       "        vertical-align: middle;\n",
       "    }\n",
       "\n",
       "    .dataframe tbody tr th {\n",
       "        vertical-align: top;\n",
       "    }\n",
       "\n",
       "    .dataframe thead th {\n",
       "        text-align: right;\n",
       "    }\n",
       "</style>\n",
       "<table border=\"1\" class=\"dataframe\">\n",
       "  <thead>\n",
       "    <tr style=\"text-align: right;\">\n",
       "      <th></th>\n",
       "      <th>conceptUri</th>\n",
       "      <th>text</th>\n",
       "      <th>lang</th>\n",
       "      <th>preferredLabel</th>\n",
       "      <th>type</th>\n",
       "    </tr>\n",
       "  </thead>\n",
       "  <tbody>\n",
       "    <tr>\n",
       "      <th>0</th>\n",
       "      <td>http://data.europa.eu/esco/occupation/9ba74e8a...</td>\n",
       "      <td>Entry Level Sales Assistant\\nAre you ready to ...</td>\n",
       "      <td>en</td>\n",
       "      <td>Entry Level Sales Assistant</td>\n",
       "      <td>annotated</td>\n",
       "    </tr>\n",
       "  </tbody>\n",
       "</table>\n",
       "</div>"
      ],
      "text/plain": [
       "                                          conceptUri  \\\n",
       "0  http://data.europa.eu/esco/occupation/9ba74e8a...   \n",
       "\n",
       "                                                text lang  \\\n",
       "0  Entry Level Sales Assistant\\nAre you ready to ...   en   \n",
       "\n",
       "                preferredLabel       type  \n",
       "0  Entry Level Sales Assistant  annotated  "
      ]
     },
     "execution_count": 36,
     "metadata": {},
     "output_type": "execute_result"
    }
   ],
   "source": [
    "concated_data_df.head(1)"
   ]
  },
  {
   "cell_type": "code",
   "execution_count": 40,
   "id": "ea7200c7-3801-4a0b-8c6c-922456eca6f9",
   "metadata": {},
   "outputs": [],
   "source": [
    "concated_data_df['class'],class_list = pd.factorize(concated_data_df['conceptUri'])\n"
   ]
  },
  {
   "cell_type": "code",
   "execution_count": 41,
   "id": "baa09c52-7ded-468d-b8bc-261f54db5ce3",
   "metadata": {},
   "outputs": [
    {
     "data": {
      "text/html": [
       "<div>\n",
       "<style scoped>\n",
       "    .dataframe tbody tr th:only-of-type {\n",
       "        vertical-align: middle;\n",
       "    }\n",
       "\n",
       "    .dataframe tbody tr th {\n",
       "        vertical-align: top;\n",
       "    }\n",
       "\n",
       "    .dataframe thead th {\n",
       "        text-align: right;\n",
       "    }\n",
       "</style>\n",
       "<table border=\"1\" class=\"dataframe\">\n",
       "  <thead>\n",
       "    <tr style=\"text-align: right;\">\n",
       "      <th></th>\n",
       "      <th>conceptUri</th>\n",
       "      <th>text</th>\n",
       "      <th>lang</th>\n",
       "      <th>preferredLabel</th>\n",
       "      <th>type</th>\n",
       "      <th>class</th>\n",
       "    </tr>\n",
       "  </thead>\n",
       "  <tbody>\n",
       "    <tr>\n",
       "      <th>0</th>\n",
       "      <td>http://data.europa.eu/esco/occupation/9ba74e8a...</td>\n",
       "      <td>Entry Level Sales Assistant\\nAre you ready to ...</td>\n",
       "      <td>en</td>\n",
       "      <td>Entry Level Sales Assistant</td>\n",
       "      <td>annotated</td>\n",
       "      <td>0</td>\n",
       "    </tr>\n",
       "  </tbody>\n",
       "</table>\n",
       "</div>"
      ],
      "text/plain": [
       "                                          conceptUri  \\\n",
       "0  http://data.europa.eu/esco/occupation/9ba74e8a...   \n",
       "\n",
       "                                                text lang  \\\n",
       "0  Entry Level Sales Assistant\\nAre you ready to ...   en   \n",
       "\n",
       "                preferredLabel       type  class  \n",
       "0  Entry Level Sales Assistant  annotated      0  "
      ]
     },
     "execution_count": 41,
     "metadata": {},
     "output_type": "execute_result"
    }
   ],
   "source": [
    "concated_data_df.head(1)"
   ]
  },
  {
   "cell_type": "code",
   "execution_count": 42,
   "id": "6f873515-8fc3-4343-afe9-a339be930c42",
   "metadata": {},
   "outputs": [],
   "source": [
    "import pickle\n",
    "with open('output/multi/classes.pickle', 'wb') as f:\n",
    "    pickle.dump(class_list,f,protocol=pickle.HIGHEST_PROTOCOL)\n"
   ]
  },
  {
   "cell_type": "code",
   "execution_count": 43,
   "id": "50121771-0821-4f4f-a15c-e5fd1c6ab97d",
   "metadata": {},
   "outputs": [],
   "source": [
    "# train one layer classifer"
   ]
  },
  {
   "cell_type": "code",
   "execution_count": 46,
   "id": "85dd1ecd-3164-4df1-9c48-865dcd9a072f",
   "metadata": {},
   "outputs": [],
   "source": [
    "def make_train_test(embeder, data_df,lang, batch_size = 64):\n",
    "    test_df = data_df[(data_df['lang']==lang) & (data_df['type']=='annotated')]\n",
    "    train_df = data_df[(data_df['lang']!=lang) | (data_df['type']=='esco')]\n",
    "    \n",
    "    train_embeds = embeder.encode(train_df['text'].tolist())\n",
    "    test_embeds = embeder.encode(test_df['text'].tolist())\n",
    "    \n",
    "    train_dataset = EmbededDataset(train_embeds, train_df['class'].tolist())\n",
    "    test_dataset = EmbededDataset(test_embeds, test_df['class'].tolist())\n",
    "    \n",
    "    train_loader = DataLoader(train_dataset, batch_size=batch_size, shuffle=True)\n",
    "    test_loader = DataLoader(test_dataset, batch_size=batch_size, shuffle=True)\n",
    "    return train_loader, test_loader"
   ]
  },
  {
   "cell_type": "code",
   "execution_count": 52,
   "id": "d1d0bb27-c0b9-4208-8c1d-e53ccef29882",
   "metadata": {},
   "outputs": [],
   "source": [
    "# from torch.utils.data import DataLoader\n",
    "# num_class = len(concated_data_df['conceptUri'].unique())\n",
    "# for lang in ['de','nl','pt']:\n",
    "#     print(lang)\n",
    "#     embeder= student_model\n",
    "#     train_loader, test_loader = make_train_test(embeder, concated_data_df,lang, batch_size = 128)\n",
    "#     one_layer_model = TinyModel(embed_dim=768,num_class=num_class)\n",
    "#     train(one_layer_model, train_loader, test_loader, num_class ,device='cuda:1',learning_rate=1e-3,epoch_num=100, lang, )"
   ]
  },
  {
   "cell_type": "code",
   "execution_count": 78,
   "id": "e3baf301-e7b6-494c-9cbe-9004d6bba7c8",
   "metadata": {},
   "outputs": [
    {
     "data": {
      "text/plain": [
       "34412"
      ]
     },
     "execution_count": 92,
     "metadata": {},
     "output_type": "execute_result"
    }
   ],
   "source": [
    "len(concated_data_df)"
   ]
  },
  {
   "cell_type": "code",
   "execution_count": null,
   "id": "92956b07-4099-4c72-8207-a006d857831d",
   "metadata": {},
   "outputs": [
    {
     "name": "stdout",
     "output_type": "stream",
     "text": [
      "2022-05-01 20:08:00 - Load pretrained SentenceTransformer: output/make-multilingual-en-de-en-nl-2022-04-30_22-23-09\n",
      "de\n"
     ]
    },
    {
     "data": {
      "application/vnd.jupyter.widget-view+json": {
       "model_id": "f7be6f06da6f4b4e82343cb2da98576b",
       "version_major": 2,
       "version_minor": 0
      },
      "text/plain": [
       "Batches:   0%|          | 0/886 [00:00<?, ?it/s]"
      ]
     },
     "metadata": {},
     "output_type": "display_data"
    },
    {
     "data": {
      "application/vnd.jupyter.widget-view+json": {
       "model_id": "fbcf45fb2dcd4d47be8195a01741cd7c",
       "version_major": 2,
       "version_minor": 0
      },
      "text/plain": [
       "Batches:   0%|          | 0/9 [00:00<?, ?it/s]"
      ]
     },
     "metadata": {},
     "output_type": "display_data"
    },
    {
     "name": "stdout",
     "output_type": "stream",
     "text": [
      "top 5 accuracy=0.028645833333333332 {'accuracy': 0.0037313432835820895} epoch =0 , train loss = 1037.3313288731617\n",
      "top 5 accuracy=0.06510416666666667 {'accuracy': 0.033582089552238806} epoch =1 , train loss = 991.1427148011354\n",
      "top 5 accuracy=0.16493055555555555 {'accuracy': 0.06343283582089553} epoch =2 , train loss = 974.3292823611079\n",
      "top 5 accuracy=0.2743055555555556 {'accuracy': 0.10074626865671642} epoch =3 , train loss = 962.8129541637661\n",
      "top 5 accuracy=0.24479166666666666 {'accuracy': 0.10820895522388059} epoch =4 , train loss = 954.2368746748915\n",
      "top 5 accuracy=0.30034722222222227 {'accuracy': 0.12686567164179105} epoch =5 , train loss = 947.0885830655828\n",
      "top 5 accuracy=0.23524305555555555 {'accuracy': 0.12686567164179105} epoch =6 , train loss = 941.2534219810555\n",
      "top 5 accuracy=0.3420138888888889 {'accuracy': 0.11940298507462686} epoch =7 , train loss = 936.2227050334484\n",
      "top 5 accuracy=0.3072916666666667 {'accuracy': 0.12686567164179105} epoch =8 , train loss = 931.5806836609368\n",
      "top 5 accuracy=0.3151041666666667 {'accuracy': 0.13059701492537312} epoch =9 , train loss = 927.4751807805654\n",
      "top 5 accuracy=0.34027777777777773 {'accuracy': 0.1417910447761194} epoch =10 , train loss = 923.7623320914604\n",
      "top 5 accuracy=0.3177083333333333 {'accuracy': 0.1417910447761194} epoch =11 , train loss = 920.5187677606806\n",
      "top 5 accuracy=0.3758680555555556 {'accuracy': 0.15671641791044777} epoch =12 , train loss = 917.2038805205543\n",
      "top 5 accuracy=0.328125 {'accuracy': 0.15298507462686567} epoch =13 , train loss = 914.4503914558136\n",
      "top 5 accuracy=0.4036458333333333 {'accuracy': 0.15671641791044777} epoch =14 , train loss = 911.737686273214\n",
      "top 5 accuracy=0.4114583333333333 {'accuracy': 0.17164179104477612} epoch =15 , train loss = 909.1800608291283\n",
      "top 5 accuracy=0.3307291666666667 {'accuracy': 0.17164179104477612} epoch =16 , train loss = 906.8699217358151\n",
      "top 5 accuracy=0.3055555555555555 {'accuracy': 0.17164179104477612} epoch =17 , train loss = 904.7443309775343\n",
      "top 5 accuracy=0.38628472222222227 {'accuracy': 0.17164179104477612} epoch =18 , train loss = 902.6379221795916\n",
      "top 5 accuracy=0.36371527777777773 {'accuracy': 0.1791044776119403} epoch =19 , train loss = 900.554916252961\n",
      "top 5 accuracy=0.3411458333333333 {'accuracy': 0.17164179104477612} epoch =20 , train loss = 898.7503691278063\n",
      "top 5 accuracy=0.3133680555555555 {'accuracy': 0.16791044776119404} epoch =21 , train loss = 897.0161780194119\n",
      "top 5 accuracy=0.3359375 {'accuracy': 0.17164179104477612} epoch =22 , train loss = 895.3112604897301\n",
      "top 5 accuracy=0.35590277777777773 {'accuracy': 0.17164179104477612} epoch =23 , train loss = 893.8412351651235\n",
      "top 5 accuracy=0.3611111111111111 {'accuracy': 0.17164179104477612} epoch =24 , train loss = 892.3905818054268\n",
      "top 5 accuracy=0.3836805555555556 {'accuracy': 0.1791044776119403} epoch =25 , train loss = 891.0833210558504\n",
      "top 5 accuracy=0.37847222222222227 {'accuracy': 0.1791044776119403} epoch =26 , train loss = 889.6621687562616\n",
      "top 5 accuracy=0.35590277777777773 {'accuracy': 0.17537313432835822} epoch =27 , train loss = 888.4147761963509\n",
      "top 5 accuracy=0.3836805555555556 {'accuracy': 0.17164179104477612} epoch =28 , train loss = 887.3668598226599\n",
      "top 5 accuracy=0.43142361111111116 {'accuracy': 0.17164179104477612} epoch =29 , train loss = 886.1760496792492\n",
      "top 5 accuracy=0.3585069444444444 {'accuracy': 0.16791044776119404} epoch =30 , train loss = 885.230580480249\n",
      "top 5 accuracy=0.43142361111111116 {'accuracy': 0.16791044776119404} epoch =31 , train loss = 884.3752518043862\n",
      "top 5 accuracy=0.3359375 {'accuracy': 0.1865671641791045} epoch =32 , train loss = 883.2776280738212\n",
      "top 5 accuracy=0.4036458333333333 {'accuracy': 0.16791044776119404} epoch =33 , train loss = 882.4389435836861\n",
      "top 5 accuracy=0.328125 {'accuracy': 0.15671641791044777} epoch =34 , train loss = 881.7226479074976\n",
      "top 5 accuracy=0.34809027777777773 {'accuracy': 0.16791044776119404} epoch =35 , train loss = 880.9081560856587\n",
      "top 5 accuracy=0.3307291666666667 {'accuracy': 0.15298507462686567} epoch =36 , train loss = 880.2470166618759\n",
      "top 5 accuracy=0.4010416666666667 {'accuracy': 0.15671641791044777} epoch =37 , train loss = 879.4385528521494\n",
      "top 5 accuracy=0.37847222222222227 {'accuracy': 0.15671641791044777} epoch =38 , train loss = 878.8375136787827\n",
      "top 5 accuracy=0.3585069444444444 {'accuracy': 0.16044776119402984} epoch =39 , train loss = 878.177824699127\n",
      "top 5 accuracy=0.43402777777777785 {'accuracy': 0.15671641791044777} epoch =40 , train loss = 877.5777908273645\n",
      "top 5 accuracy=0.3836805555555556 {'accuracy': 0.15298507462686567} epoch =41 , train loss = 876.9909997845555\n",
      "top 5 accuracy=0.35590277777777773 {'accuracy': 0.14925373134328357} epoch =42 , train loss = 876.3837839418703\n",
      "top 5 accuracy=0.3836805555555556 {'accuracy': 0.15671641791044777} epoch =43 , train loss = 875.8697027172054\n",
      "top 5 accuracy=0.43402777777777785 {'accuracy': 0.1455223880597015} epoch =44 , train loss = 875.4927166474832\n",
      "top 5 accuracy=0.3255208333333333 {'accuracy': 0.14925373134328357} epoch =45 , train loss = 874.9484333691296\n",
      "top 5 accuracy=0.35590277777777773 {'accuracy': 0.14925373134328357} epoch =46 , train loss = 874.4564624605952\n",
      "top 5 accuracy=0.37847222222222227 {'accuracy': 0.1455223880597015} epoch =47 , train loss = 874.121760853776\n",
      "top 5 accuracy=0.3055555555555555 {'accuracy': 0.14925373134328357} epoch =48 , train loss = 873.6126420648249\n",
      "top 5 accuracy=0.3810763888888889 {'accuracy': 0.15298507462686567} epoch =49 , train loss = 873.2132654705563\n",
      "top 5 accuracy=0.3333333333333333 {'accuracy': 0.1455223880597015} epoch =50 , train loss = 872.9420436438139\n",
      "top 5 accuracy=0.4869791666666667 {'accuracy': 0.1417910447761194} epoch =51 , train loss = 872.5695187336689\n",
      "top 5 accuracy=0.35590277777777773 {'accuracy': 0.1417910447761194} epoch =52 , train loss = 872.2012894175074\n",
      "top 5 accuracy=0.3836805555555556 {'accuracy': 0.15298507462686567} epoch =53 , train loss = 871.853536704639\n",
      "top 5 accuracy=0.43402777777777785 {'accuracy': 0.1455223880597015} epoch =54 , train loss = 871.4865806339023\n",
      "top 5 accuracy=0.3333333333333333 {'accuracy': 0.1417910447761194} epoch =55 , train loss = 871.176158355163\n",
      "top 5 accuracy=0.484375 {'accuracy': 0.13805970149253732} epoch =56 , train loss = 870.9325801789223\n",
      "top 5 accuracy=0.35590277777777773 {'accuracy': 0.1455223880597015} epoch =57 , train loss = 870.5739305169733\n",
      "top 5 accuracy=0.35590277777777773 {'accuracy': 0.13805970149253732} epoch =58 , train loss = 870.3969081586546\n",
      "top 5 accuracy=0.35590277777777773 {'accuracy': 0.1455223880597015} epoch =59 , train loss = 870.0344379528149\n",
      "top 5 accuracy=0.43402777777777785 {'accuracy': 0.13805970149253732} epoch =60 , train loss = 869.7227704589432\n",
      "top 5 accuracy=0.37847222222222227 {'accuracy': 0.13432835820895522} epoch =61 , train loss = 869.5446225028854\n",
      "top 5 accuracy=0.3255208333333333 {'accuracy': 0.13432835820895522} epoch =62 , train loss = 869.2858859826853\n",
      "top 5 accuracy=0.328125 {'accuracy': 0.1417910447761194} epoch =63 , train loss = 868.9326083724563\n",
      "top 5 accuracy=0.35590277777777773 {'accuracy': 0.1417910447761194} epoch =64 , train loss = 868.806886234799\n",
      "top 5 accuracy=0.3307291666666667 {'accuracy': 0.1417910447761194} epoch =65 , train loss = 868.5360906446302\n",
      "top 5 accuracy=0.3836805555555556 {'accuracy': 0.13805970149253732} epoch =66 , train loss = 868.4074682759809\n",
      "top 5 accuracy=0.3003472222222222 {'accuracy': 0.13805970149253732} epoch =67 , train loss = 868.0506576203011\n",
      "top 5 accuracy=0.3532986111111111 {'accuracy': 0.13432835820895522} epoch =68 , train loss = 867.9537638071421\n",
      "top 5 accuracy=0.3810763888888889 {'accuracy': 0.13805970149253732} epoch =69 , train loss = 867.8150190447902\n",
      "top 5 accuracy=0.3585069444444444 {'accuracy': 0.13059701492537312} epoch =70 , train loss = 867.498711929665\n",
      "top 5 accuracy=0.3836805555555556 {'accuracy': 0.13805970149253732} epoch =71 , train loss = 867.4416175103403\n",
      "top 5 accuracy=0.3585069444444444 {'accuracy': 0.13432835820895522} epoch =72 , train loss = 867.1542764354397\n",
      "top 5 accuracy=0.43402777777777785 {'accuracy': 0.13432835820895522} epoch =73 , train loss = 867.1206515286419\n",
      "top 5 accuracy=0.4539930555555555 {'accuracy': 0.13432835820895522} epoch =74 , train loss = 866.8743205070496\n",
      "top 5 accuracy=0.3836805555555556 {'accuracy': 0.13432835820895522} epoch =75 , train loss = 866.7109275594488\n",
      "top 5 accuracy=0.3081597222222222 {'accuracy': 0.13059701492537312} epoch =76 , train loss = 866.5136869877308\n",
      "top 5 accuracy=0.3107638888888889 {'accuracy': 0.13432835820895522} epoch =77 , train loss = 866.3795473554113\n",
      "top 5 accuracy=0.3055555555555555 {'accuracy': 0.13432835820895522} epoch =78 , train loss = 866.2642488651447\n",
      "top 5 accuracy=0.45920138888888884 {'accuracy': 0.13432835820895522} epoch =79 , train loss = 866.0225681356482\n",
      "top 5 accuracy=0.35590277777777773 {'accuracy': 0.13059701492537312} epoch =80 , train loss = 865.8874951955435\n",
      "top 5 accuracy=0.3836805555555556 {'accuracy': 0.13432835820895522} epoch =81 , train loss = 865.6735906214327\n",
      "top 5 accuracy=0.40625 {'accuracy': 0.13432835820895522} epoch =82 , train loss = 865.7253280373307\n",
      "top 5 accuracy=0.3081597222222222 {'accuracy': 0.13432835820895522} epoch =83 , train loss = 865.6030124071482\n",
      "top 5 accuracy=0.3333333333333333 {'accuracy': 0.13432835820895522} epoch =84 , train loss = 865.4744320302397\n",
      "top 5 accuracy=0.3307291666666667 {'accuracy': 0.13432835820895522} epoch =85 , train loss = 865.2639750231493\n",
      "top 5 accuracy=0.3888888888888889 {'accuracy': 0.13432835820895522} epoch =86 , train loss = 865.1527967152294\n",
      "top 5 accuracy=0.40625 {'accuracy': 0.12686567164179105} epoch =87 , train loss = 865.1469259090252\n",
      "top 5 accuracy=0.4088541666666667 {'accuracy': 0.13059701492537312} epoch =88 , train loss = 864.9300375843907\n",
      "top 5 accuracy=0.43402777777777785 {'accuracy': 0.13059701492537312} epoch =89 , train loss = 864.8408091304539\n",
      "top 5 accuracy=0.3532986111111111 {'accuracy': 0.13059701492537312} epoch =90 , train loss = 864.5866414662954\n",
      "top 5 accuracy=0.40625 {'accuracy': 0.13059701492537312} epoch =91 , train loss = 864.6991638020352\n",
      "top 5 accuracy=0.37847222222222227 {'accuracy': 0.12686567164179105} epoch =92 , train loss = 864.4046127731735\n",
      "top 5 accuracy=0.3758680555555556 {'accuracy': 0.12686567164179105} epoch =93 , train loss = 864.4168021915195\n",
      "top 5 accuracy=0.3255208333333333 {'accuracy': 0.13059701492537312} epoch =94 , train loss = 864.1913584374092\n",
      "top 5 accuracy=0.3003472222222222 {'accuracy': 0.13059701492537312} epoch =95 , train loss = 864.2280434745926\n",
      "top 5 accuracy=0.3758680555555556 {'accuracy': 0.13059701492537312} epoch =96 , train loss = 864.2206217018334\n",
      "top 5 accuracy=0.2977430555555555 {'accuracy': 0.13059701492537312} epoch =97 , train loss = 864.0740150331377\n",
      "top 5 accuracy=0.3229166666666667 {'accuracy': 0.12686567164179105} epoch =98 , train loss = 863.897637152457\n",
      "top 5 accuracy=0.3229166666666667 {'accuracy': 0.13059701492537312} epoch =99 , train loss = 863.8564139486433\n",
      "nl\n"
     ]
    },
    {
     "data": {
      "application/vnd.jupyter.widget-view+json": {
       "model_id": "aed322f3f7104bedb30b099f2e14f677",
       "version_major": 2,
       "version_minor": 0
      },
      "text/plain": [
       "Batches:   0%|          | 0/886 [00:00<?, ?it/s]"
      ]
     },
     "metadata": {},
     "output_type": "display_data"
    },
    {
     "data": {
      "application/vnd.jupyter.widget-view+json": {
       "model_id": "2317723938ec4383b698279b17e219cb",
       "version_major": 2,
       "version_minor": 0
      },
      "text/plain": [
       "Batches:   0%|          | 0/9 [00:00<?, ?it/s]"
      ]
     },
     "metadata": {},
     "output_type": "display_data"
    },
    {
     "name": "stdout",
     "output_type": "stream",
     "text": [
      "top 5 accuracy=0.036458333333333336 {'accuracy': 0.0035842293906810036} epoch =0 , train loss = 1037.5025115163476\n",
      "top 5 accuracy=0.09669384057971014 {'accuracy': 0.025089605734767026} epoch =1 , train loss = 991.4817765059772\n",
      "top 5 accuracy=0.15692934782608695 {'accuracy': 0.06093189964157706} epoch =2 , train loss = 974.797504901886\n",
      "top 5 accuracy=0.17368659420289856 {'accuracy': 0.06451612903225806} epoch =3 , train loss = 963.2333760562244\n",
      "top 5 accuracy=0.1867074275362319 {'accuracy': 0.07168458781362007} epoch =4 , train loss = 954.5487020123112\n",
      "top 5 accuracy=0.20380434782608695 {'accuracy': 0.06451612903225806} epoch =5 , train loss = 947.3725772870554\n",
      "top 5 accuracy=0.23018568840579712 {'accuracy': 0.07168458781362007} epoch =6 , train loss = 941.5819428718842\n",
      "top 5 accuracy=0.21161684782608695 {'accuracy': 0.08243727598566308} epoch =7 , train loss = 936.3618846949156\n",
      "top 5 accuracy=0.24581068840579712 {'accuracy': 0.0967741935483871} epoch =8 , train loss = 931.9071355510403\n",
      "top 5 accuracy=0.22724184782608695 {'accuracy': 0.0967741935483871} epoch =9 , train loss = 927.7466572147232\n",
      "top 5 accuracy=0.25883152173913043 {'accuracy': 0.1039426523297491} epoch =10 , train loss = 923.9883573807037\n",
      "top 5 accuracy=0.2692481884057971 {'accuracy': 0.1003584229390681} epoch =11 , train loss = 920.7763667686565\n",
      "top 5 accuracy=0.28634510869565216 {'accuracy': 0.1003584229390681} epoch =12 , train loss = 917.5421527226766\n",
      "top 5 accuracy=0.2770606884057971 {'accuracy': 0.1039426523297491} epoch =13 , train loss = 914.7655320790437\n",
      "top 5 accuracy=0.27298460144927533 {'accuracy': 0.10752688172043011} epoch =14 , train loss = 912.1202427524704\n",
      "top 5 accuracy=0.29936594202898553 {'accuracy': 0.1039426523297491} epoch =15 , train loss = 909.579108648472\n",
      "top 5 accuracy=0.3602807971014492 {'accuracy': 0.1111111111111111} epoch =16 , train loss = 907.2940446342434\n",
      "top 5 accuracy=0.3127264492753623 {'accuracy': 0.10752688172043011} epoch =17 , train loss = 905.0991627224931\n",
      "top 5 accuracy=0.28226902173913043 {'accuracy': 0.10752688172043011} epoch =18 , train loss = 903.0470128811157\n",
      "top 5 accuracy=0.2492074275362319 {'accuracy': 0.11469534050179211} epoch =19 , train loss = 901.1587118264791\n",
      "top 5 accuracy=0.323143115942029 {'accuracy': 0.1039426523297491} epoch =20 , train loss = 899.1693542454693\n",
      "top 5 accuracy=0.29008152173913043 {'accuracy': 0.11469534050179211} epoch =21 , train loss = 897.4470043955622\n",
      "top 5 accuracy=0.33763586956521735 {'accuracy': 0.1039426523297491} epoch =22 , train loss = 895.9451874612688\n",
      "top 5 accuracy=0.2399230072463768 {'accuracy': 0.10752688172043011} epoch =23 , train loss = 894.2690375323768\n",
      "top 5 accuracy=0.29008152173913043 {'accuracy': 0.1039426523297491} epoch =24 , train loss = 892.8885701475916\n",
      "top 5 accuracy=0.31906702898550726 {'accuracy': 0.1111111111111111} epoch =25 , train loss = 891.4993745163754\n",
      "top 5 accuracy=0.34544836956521735 {'accuracy': 0.1039426523297491} epoch =26 , train loss = 890.1428215482214\n",
      "top 5 accuracy=0.2952898550724638 {'accuracy': 0.1039426523297491} epoch =27 , train loss = 888.9693400387291\n",
      "top 5 accuracy=0.3692255434782609 {'accuracy': 0.1039426523297491} epoch =28 , train loss = 887.8320170802039\n",
      "top 5 accuracy=0.2781929347826087 {'accuracy': 0.1039426523297491} epoch =29 , train loss = 886.5992297975866\n",
      "top 5 accuracy=0.25294384057971014 {'accuracy': 0.10752688172043011} epoch =30 , train loss = 885.7927119087528\n",
      "top 5 accuracy=0.28860960144927533 {'accuracy': 0.10752688172043011} epoch =31 , train loss = 884.6325410744091\n",
      "top 5 accuracy=0.3506567028985507 {'accuracy': 0.1111111111111111} epoch =32 , train loss = 883.7986360154711\n",
      "top 5 accuracy=0.33763586956521735 {'accuracy': 0.10752688172043011} epoch =33 , train loss = 882.7602226669724\n",
      "top 5 accuracy=0.30457427536231885 {'accuracy': 0.1039426523297491} epoch =34 , train loss = 882.1131043584497\n",
      "top 5 accuracy=0.3257472826086956 {'accuracy': 0.1039426523297491} epoch =35 , train loss = 881.2961253174791\n",
      "top 5 accuracy=0.29008152173913043 {'accuracy': 0.10752688172043011} epoch =36 , train loss = 880.6041794467617\n",
      "top 5 accuracy=0.25441576086956524 {'accuracy': 0.1039426523297491} epoch =37 , train loss = 879.9139659619547\n",
      "top 5 accuracy=0.30197010869565216 {'accuracy': 0.10752688172043011} epoch =38 , train loss = 879.1452208553349\n",
      "top 5 accuracy=0.3257472826086956 {'accuracy': 0.1039426523297491} epoch =39 , train loss = 878.5081937184204\n",
      "top 5 accuracy=0.2848731884057971 {'accuracy': 0.1039426523297491} epoch =40 , train loss = 877.8000456943169\n",
      "top 5 accuracy=0.3706974637681159 {'accuracy': 0.10752688172043011} epoch =41 , train loss = 877.3573689503713\n",
      "top 5 accuracy=0.3205389492753623 {'accuracy': 0.1039426523297491} epoch =42 , train loss = 876.7881225723404\n",
      "top 5 accuracy=0.2848731884057971 {'accuracy': 0.1111111111111111} epoch =43 , train loss = 876.3426621819401\n",
      "top 5 accuracy=0.29415760869565216 {'accuracy': 0.1003584229390681} epoch =44 , train loss = 875.8184236599518\n",
      "top 5 accuracy=0.29676177536231885 {'accuracy': 0.10752688172043011} epoch =45 , train loss = 875.2301382825182\n",
      "top 5 accuracy=0.27298460144927533 {'accuracy': 0.1111111111111111} epoch =46 , train loss = 874.812983319566\n",
      "top 5 accuracy=0.3060461956521739 {'accuracy': 0.1111111111111111} epoch =47 , train loss = 874.4403106629311\n",
      "top 5 accuracy=0.29676177536231885 {'accuracy': 0.10752688172043011} epoch =48 , train loss = 873.9577512504818\n",
      "top 5 accuracy=0.27298460144927533 {'accuracy': 0.10752688172043011} epoch =49 , train loss = 873.5692052583437\n",
      "top 5 accuracy=0.3060461956521739 {'accuracy': 0.1003584229390681} epoch =50 , train loss = 873.1576976582811\n",
      "top 5 accuracy=0.3179347826086956 {'accuracy': 0.1039426523297491} epoch =51 , train loss = 872.8953110162203\n",
      "top 5 accuracy=0.29155344202898553 {'accuracy': 0.1039426523297491} epoch =52 , train loss = 872.5609628939413\n",
      "top 5 accuracy=0.2848731884057971 {'accuracy': 0.10752688172043011} epoch =53 , train loss = 872.1579256830988\n",
      "top 5 accuracy=0.29676177536231885 {'accuracy': 0.1111111111111111} epoch =54 , train loss = 871.7387823328241\n",
      "top 5 accuracy=0.25181159420289856 {'accuracy': 0.11469534050179211} epoch =55 , train loss = 871.4857534760828\n",
      "top 5 accuracy=0.29155344202898553 {'accuracy': 0.1111111111111111} epoch =56 , train loss = 871.276076658352\n",
      "top 5 accuracy=0.24660326086956522 {'accuracy': 0.1111111111111111} epoch =57 , train loss = 870.7480070440619\n",
      "top 5 accuracy=0.27298460144927533 {'accuracy': 0.1111111111111111} epoch =58 , train loss = 870.6835619221937\n",
      "top 5 accuracy=0.2848731884057971 {'accuracy': 0.1111111111111111} epoch =59 , train loss = 870.3405284881592\n",
      "top 5 accuracy=0.2703804347826087 {'accuracy': 0.11469534050179211} epoch =60 , train loss = 870.0842993130555\n",
      "top 5 accuracy=0.2874773550724638 {'accuracy': 0.11469534050179211} epoch =61 , train loss = 869.8149869549381\n",
      "top 5 accuracy=0.315330615942029 {'accuracy': 0.11469534050179211} epoch =62 , train loss = 869.4884929656982\n",
      "top 5 accuracy=0.27298460144927533 {'accuracy': 0.11469534050179211} epoch =63 , train loss = 869.3960492782765\n",
      "top 5 accuracy=0.3205389492753623 {'accuracy': 0.11469534050179211} epoch =64 , train loss = 868.9784072497944\n",
      "top 5 accuracy=0.2610960144927536 {'accuracy': 0.1111111111111111} epoch =65 , train loss = 868.8051289760315\n",
      "top 5 accuracy=0.2848731884057971 {'accuracy': 0.11469534050179211} epoch =66 , train loss = 868.5756780306498\n",
      "top 5 accuracy=0.2848731884057971 {'accuracy': 0.11469534050179211} epoch =67 , train loss = 868.4269504353807\n",
      "top 5 accuracy=0.29415760869565216 {'accuracy': 0.1111111111111111} epoch =68 , train loss = 868.1355208040358\n",
      "top 5 accuracy=0.29415760869565216 {'accuracy': 0.11469534050179211} epoch =69 , train loss = 868.054140378763\n",
      "top 5 accuracy=0.32982336956521735 {'accuracy': 0.1111111111111111} epoch =70 , train loss = 867.8894915881458\n",
      "top 5 accuracy=0.28226902173913043 {'accuracy': 0.11469534050179211} epoch =71 , train loss = 867.6709230332762\n",
      "top 5 accuracy=0.2610960144927536 {'accuracy': 0.1111111111111111} epoch =72 , train loss = 867.3901242608423\n",
      "top 5 accuracy=0.28226902173913043 {'accuracy': 0.1111111111111111} epoch =73 , train loss = 867.2334920865995\n",
      "top 5 accuracy=0.2703804347826087 {'accuracy': 0.1111111111111111} epoch =74 , train loss = 867.1109834275804\n",
      "top 5 accuracy=0.29008152173913043 {'accuracy': 0.1111111111111111} epoch =75 , train loss = 866.8645423833315\n",
      "top 5 accuracy=0.24660326086956522 {'accuracy': 0.1111111111111111} epoch =76 , train loss = 866.7888695699675\n",
      "top 5 accuracy=0.34692028985507245 {'accuracy': 0.1111111111111111} epoch =77 , train loss = 866.6177637770369\n",
      "top 5 accuracy=0.267776268115942 {'accuracy': 0.1111111111111111} epoch =78 , train loss = 866.3229401820415\n",
      "top 5 accuracy=0.3060461956521739 {'accuracy': 0.1111111111111111} epoch =79 , train loss = 866.339299436088\n",
      "top 5 accuracy=0.3417119565217391 {'accuracy': 0.1111111111111111} epoch =80 , train loss = 866.099819527016\n",
      "top 5 accuracy=0.30344202898550726 {'accuracy': 0.1111111111111111} epoch =81 , train loss = 865.910225466565\n",
      "top 5 accuracy=0.3179347826086956 {'accuracy': 0.1111111111111111} epoch =82 , train loss = 865.8849585893992\n",
      "top 5 accuracy=0.315330615942029 {'accuracy': 0.1111111111111111} epoch =83 , train loss = 865.8778678425798\n",
      "top 5 accuracy=0.28634510869565216 {'accuracy': 0.10752688172043011} epoch =84 , train loss = 865.623959915058\n",
      "top 5 accuracy=0.30344202898550726 {'accuracy': 0.1111111111111111} epoch =85 , train loss = 865.4623998586122\n",
      "top 5 accuracy=0.2770606884057971 {'accuracy': 0.1111111111111111} epoch =86 , train loss = 865.3828859629932\n",
      "top 5 accuracy=0.26517210144927533 {'accuracy': 0.1111111111111111} epoch =87 , train loss = 865.174924212533\n",
      "top 5 accuracy=0.30344202898550726 {'accuracy': 0.1111111111111111} epoch =88 , train loss = 865.0982180694202\n",
      "top 5 accuracy=0.28634510869565216 {'accuracy': 0.10752688172043011} epoch =89 , train loss = 864.9698242711592\n",
      "top 5 accuracy=0.2558876811594203 {'accuracy': 0.1111111111111111} epoch =90 , train loss = 864.9553513290646\n",
      "top 5 accuracy=0.2982336956521739 {'accuracy': 0.1111111111111111} epoch =91 , train loss = 864.798017377252\n",
      "top 5 accuracy=0.2625679347826087 {'accuracy': 0.1111111111111111} epoch =92 , train loss = 864.6685341134802\n",
      "top 5 accuracy=0.28226902173913043 {'accuracy': 0.1111111111111111} epoch =93 , train loss = 864.6456171284925\n",
      "top 5 accuracy=0.32461503623188404 {'accuracy': 0.10752688172043011} epoch =94 , train loss = 864.5861891024822\n",
      "top 5 accuracy=0.2930253623188406 {'accuracy': 0.10752688172043011} epoch =95 , train loss = 864.3530404997301\n",
      "top 5 accuracy=0.27445652173913043 {'accuracy': 0.10752688172043011} epoch =96 , train loss = 864.3431330178234\n",
      "top 5 accuracy=0.2930253623188406 {'accuracy': 0.10752688172043011} epoch =97 , train loss = 864.2172770757933\n",
      "top 5 accuracy=0.3194067028985507 {'accuracy': 0.10752688172043011} epoch =98 , train loss = 864.0136941789507\n",
      "top 5 accuracy=0.23618659420289856 {'accuracy': 0.10752688172043011} epoch =99 , train loss = 864.0141620206404\n",
      "pt\n"
     ]
    },
    {
     "data": {
      "application/vnd.jupyter.widget-view+json": {
       "model_id": "5ac7d5b5c3b249c2bfa0d0ced12540f3",
       "version_major": 2,
       "version_minor": 0
      },
      "text/plain": [
       "Batches:   0%|          | 0/849 [00:00<?, ?it/s]"
      ]
     },
     "metadata": {},
     "output_type": "display_data"
    },
    {
     "data": {
      "application/vnd.jupyter.widget-view+json": {
       "model_id": "abdbd9e59cb14d2bb2a278a5effe4a5c",
       "version_major": 2,
       "version_minor": 0
      },
      "text/plain": [
       "Batches:   0%|          | 0/46 [00:00<?, ?it/s]"
      ]
     },
     "metadata": {},
     "output_type": "display_data"
    },
    {
     "name": "stdout",
     "output_type": "stream",
     "text": [
      "top 5 accuracy=0.04535590277777778 {'accuracy': 0.007617728531855956} epoch =0 , train loss = 1039.9057916094998\n",
      "top 5 accuracy=0.07045717592592593 {'accuracy': 0.01592797783933518} epoch =1 , train loss = 999.8051183861746\n",
      "top 5 accuracy=0.10894097222222222 {'accuracy': 0.03462603878116344} epoch =2 , train loss = 986.6255296787746\n",
      "top 5 accuracy=0.14539930555555555 {'accuracy': 0.054016620498614956} epoch =3 , train loss = 977.7356394646873\n",
      "top 5 accuracy=0.16319444444444445 {'accuracy': 0.06578947368421052} epoch =4 , train loss = 970.7923948574514\n",
      "top 5 accuracy=0.1831597222222222 {'accuracy': 0.0685595567867036} epoch =5 , train loss = 965.164788196904\n",
      "top 5 accuracy=0.19661458333333334 {'accuracy': 0.07271468144044321} epoch =6 , train loss = 960.2531921897136\n",
      "top 5 accuracy=0.20500578703703706 {'accuracy': 0.07548476454293629} epoch =7 , train loss = 956.2823106291148\n",
      "top 5 accuracy=0.22359664351851852 {'accuracy': 0.07894736842105263} epoch =8 , train loss = 952.5803956224325\n",
      "top 5 accuracy=0.23263888888888887 {'accuracy': 0.08102493074792244} epoch =9 , train loss = 949.3957409791543\n",
      "top 5 accuracy=0.23914930555555555 {'accuracy': 0.08448753462603878} epoch =10 , train loss = 946.2963479449492\n",
      "top 5 accuracy=0.2492042824074074 {'accuracy': 0.0886426592797784} epoch =11 , train loss = 943.5800528996427\n",
      "top 5 accuracy=0.26200810185185186 {'accuracy': 0.09002770083102493} epoch =12 , train loss = 940.8902545131988\n",
      "top 5 accuracy=0.2628761574074074 {'accuracy': 0.09002770083102493} epoch =13 , train loss = 938.4672267672041\n",
      "top 5 accuracy=0.27437789351851855 {'accuracy': 0.09556786703601108} epoch =14 , train loss = 936.2726982233111\n",
      "top 5 accuracy=0.2839265046296296 {'accuracy': 0.09764542936288088} epoch =15 , train loss = 934.2420846509261\n",
      "top 5 accuracy=0.2805989583333333 {'accuracy': 0.09903047091412742} epoch =16 , train loss = 932.3604840874112\n",
      "top 5 accuracy=0.28725405092592593 {'accuracy': 0.09764542936288088} epoch =17 , train loss = 930.4780098731529\n",
      "top 5 accuracy=0.29542824074074076 {'accuracy': 0.1018005540166205} epoch =18 , train loss = 928.69328386459\n",
      "top 5 accuracy=0.28609664351851855 {'accuracy': 0.09833795013850416} epoch =19 , train loss = 927.0882548972475\n",
      "top 5 accuracy=0.2863136574074074 {'accuracy': 0.10318559556786704} epoch =20 , train loss = 925.589401621214\n",
      "top 5 accuracy=0.3078703703703704 {'accuracy': 0.09764542936288088} epoch =21 , train loss = 924.076330256574\n",
      "top 5 accuracy=0.30049189814814814 {'accuracy': 0.1038781163434903} epoch =22 , train loss = 922.8095312611038\n",
      "top 5 accuracy=0.3088107638888889 {'accuracy': 0.10110803324099724} epoch =23 , train loss = 921.4823431588114\n",
      "top 5 accuracy=0.3041087962962963 {'accuracy': 0.10318559556786704} epoch =24 , train loss = 920.1871131708924\n",
      "top 5 accuracy=0.2994791666666667 {'accuracy': 0.10734072022160665} epoch =25 , train loss = 919.0399982470302\n",
      "top 5 accuracy=0.30244502314814814 {'accuracy': 0.10664819944598337} epoch =26 , train loss = 917.8954665313864\n",
      "top 5 accuracy=0.3159722222222222 {'accuracy': 0.10872576177285319} epoch =27 , train loss = 916.9689968673276\n",
      "top 5 accuracy=0.3109809027777778 {'accuracy': 0.10734072022160665} epoch =28 , train loss = 916.1299903583079\n",
      "top 5 accuracy=0.3020833333333333 {'accuracy': 0.10803324099722991} epoch =29 , train loss = 915.1026977888296\n",
      "top 5 accuracy=0.3099681712962963 {'accuracy': 0.10803324099722991} epoch =30 , train loss = 914.2977185406036\n",
      "top 5 accuracy=0.30302372685185186 {'accuracy': 0.10457063711911357} epoch =31 , train loss = 913.5470324502865\n",
      "top 5 accuracy=0.31069155092592593 {'accuracy': 0.10734072022160665} epoch =32 , train loss = 912.6780869166056\n",
      "top 5 accuracy=0.30808738425925924 {'accuracy': 0.10595567867036011} epoch =33 , train loss = 912.1230375039186\n",
      "top 5 accuracy=0.29311342592592593 {'accuracy': 0.10526315789473684} epoch =34 , train loss = 911.3624349379204\n",
      "top 5 accuracy=0.30070891203703703 {'accuracy': 0.10595567867036011} epoch =35 , train loss = 910.6853442751745\n",
      "top 5 accuracy=0.31235532407407407 {'accuracy': 0.10664819944598337} epoch =36 , train loss = 910.1837685320859\n",
      "top 5 accuracy=0.3033854166666667 {'accuracy': 0.10457063711911357} epoch =37 , train loss = 909.6863324608602\n",
      "top 5 accuracy=0.30570023148148145 {'accuracy': 0.10526315789473684} epoch =38 , train loss = 909.0862030557623\n",
      "top 5 accuracy=0.3137297453703704 {'accuracy': 0.10526315789473684} epoch =39 , train loss = 908.6455250413205\n",
      "top 5 accuracy=0.2964409722222222 {'accuracy': 0.10803324099722991} epoch =40 , train loss = 908.0476412258238\n",
      "top 5 accuracy=0.2974537037037037 {'accuracy': 0.10526315789473684} epoch =41 , train loss = 907.6520724766691\n",
      "top 5 accuracy=0.30078125 {'accuracy': 0.10734072022160665} epoch =42 , train loss = 907.2186988329104\n",
      "top 5 accuracy=0.3021556712962963 {'accuracy': 0.10803324099722991} epoch =43 , train loss = 906.6916950342242\n",
      "top 5 accuracy=0.3116319444444445 {'accuracy': 0.10526315789473684} epoch =44 , train loss = 906.3101535000152\n",
      "top 5 accuracy=0.30475983796296297 {'accuracy': 0.10595567867036011} epoch =45 , train loss = 905.9484422800127\n",
      "top 5 accuracy=0.3077256944444445 {'accuracy': 0.10526315789473684} epoch =46 , train loss = 905.5825830334229\n",
      "top 5 accuracy=0.31040219907407407 {'accuracy': 0.10734072022160665} epoch =47 , train loss = 905.3998353761127\n",
      "top 5 accuracy=0.3001302083333333 {'accuracy': 0.10526315789473684} epoch =48 , train loss = 905.0067363255461\n",
      "top 5 accuracy=0.3060619212962963 {'accuracy': 0.10803324099722991} epoch =49 , train loss = 904.707396323692\n",
      "top 5 accuracy=0.30678530092592593 {'accuracy': 0.10595567867036011} epoch =50 , train loss = 904.3298036817094\n",
      "top 5 accuracy=0.2994791666666667 {'accuracy': 0.10734072022160665} epoch =51 , train loss = 904.0480615544208\n",
      "top 5 accuracy=0.3038194444444445 {'accuracy': 0.10803324099722991} epoch =52 , train loss = 903.9390770504732\n",
      "top 5 accuracy=0.31040219907407407 {'accuracy': 0.10941828254847645} epoch =53 , train loss = 903.429589356615\n",
      "top 5 accuracy=0.3051215277777778 {'accuracy': 0.11011080332409973} epoch =54 , train loss = 903.2735997858182\n",
      "top 5 accuracy=0.30439814814814814 {'accuracy': 0.10941828254847645} epoch =55 , train loss = 902.9873616169316\n",
      "top 5 accuracy=0.3021556712962963 {'accuracy': 0.10872576177285319} epoch =56 , train loss = 902.7379323619073\n",
      "top 5 accuracy=0.30844907407407407 {'accuracy': 0.10941828254847645} epoch =57 , train loss = 902.6357224827082\n",
      "top 5 accuracy=0.3137297453703704 {'accuracy': 0.10803324099722991} epoch =58 , train loss = 902.3107915215649\n",
      "top 5 accuracy=0.30873842592592593 {'accuracy': 0.10872576177285319} epoch =59 , train loss = 902.1395945392304\n",
      "top 5 accuracy=0.3041087962962963 {'accuracy': 0.10734072022160665} epoch =60 , train loss = 901.8496844018568\n",
      "top 5 accuracy=0.30244502314814814 {'accuracy': 0.10803324099722991} epoch =61 , train loss = 901.7834052054535\n",
      "top 5 accuracy=0.30844907407407407 {'accuracy': 0.11011080332409973} epoch =62 , train loss = 901.5625869903206\n",
      "top 5 accuracy=0.3077980324074074 {'accuracy': 0.10803324099722991} epoch =63 , train loss = 901.5028385645907\n",
      "top 5 accuracy=0.3011429398148148 {'accuracy': 0.10941828254847645} epoch =64 , train loss = 901.2751941412267\n",
      "top 5 accuracy=0.30085358796296297 {'accuracy': 0.10872576177285319} epoch =65 , train loss = 901.1479338883235\n",
      "top 5 accuracy=0.30280671296296297 {'accuracy': 0.10664819944598337} epoch =66 , train loss = 900.8455847126777\n",
      "top 5 accuracy=0.3057725694444445 {'accuracy': 0.10664819944598337} epoch =67 , train loss = 900.7397253009635\n",
      "top 5 accuracy=0.29853877314814814 {'accuracy': 0.10872576177285319} epoch =68 , train loss = 900.5300408976739\n",
      "top 5 accuracy=0.3101128472222222 {'accuracy': 0.10803324099722991} epoch =69 , train loss = 900.5744186052134\n",
      "top 5 accuracy=0.30244502314814814 {'accuracy': 0.10872576177285319} epoch =70 , train loss = 900.3731720033386\n",
      "top 5 accuracy=0.2931857638888889 {'accuracy': 0.10872576177285319} epoch =71 , train loss = 900.3087658143379\n",
      "top 5 accuracy=0.3025173611111111 {'accuracy': 0.10734072022160665} epoch =72 , train loss = 899.9608211696428\n",
      "top 5 accuracy=0.30324074074074076 {'accuracy': 0.10872576177285319} epoch =73 , train loss = 900.0305806146541\n",
      "top 5 accuracy=0.2912326388888889 {'accuracy': 0.10872576177285319} epoch =74 , train loss = 899.7728620538129\n",
      "top 5 accuracy=0.29658564814814814 {'accuracy': 0.10734072022160665} epoch =75 , train loss = 899.5610456063714\n",
      "top 5 accuracy=0.2982494212962963 {'accuracy': 0.10803324099722991} epoch =76 , train loss = 899.5638433241509\n",
      "top 5 accuracy=0.2899305555555555 {'accuracy': 0.10803324099722991} epoch =77 , train loss = 899.5422136369446\n",
      "top 5 accuracy=0.3018663194444445 {'accuracy': 0.10872576177285319} epoch =78 , train loss = 899.2308584625173\n",
      "top 5 accuracy=0.3023003472222222 {'accuracy': 0.10664819944598337} epoch =79 , train loss = 899.3628775457821\n",
      "top 5 accuracy=0.30519386574074076 {'accuracy': 0.10664819944598337} epoch =80 , train loss = 899.1247530610349\n",
      "top 5 accuracy=0.2982494212962963 {'accuracy': 0.10803324099722991} epoch =81 , train loss = 898.9694883901748\n",
      "top 5 accuracy=0.2992621527777778 {'accuracy': 0.10664819944598337} epoch =82 , train loss = 898.8945401867791\n",
      "top 5 accuracy=0.30085358796296297 {'accuracy': 0.11011080332409973} epoch =83 , train loss = 898.7396847944304\n",
      "top 5 accuracy=0.2952835648148148 {'accuracy': 0.11011080332409973} epoch =84 , train loss = 898.7678453508117\n",
      "top 5 accuracy=0.3019386574074074 {'accuracy': 0.11080332409972299} epoch =85 , train loss = 898.574969721512\n",
      "top 5 accuracy=0.2917390046296296 {'accuracy': 0.10872576177285319} epoch =86 , train loss = 898.578901492374\n",
      "top 5 accuracy=0.29202835648148145 {'accuracy': 0.11011080332409973} epoch =87 , train loss = 898.4526659692397\n",
      "top 5 accuracy=0.3009982638888889 {'accuracy': 0.10734072022160665} epoch =88 , train loss = 898.3265984047187\n",
      "top 5 accuracy=0.29636863425925924 {'accuracy': 0.10803324099722991} epoch =89 , train loss = 898.3597181526148\n",
      "top 5 accuracy=0.2883391203703704 {'accuracy': 0.10734072022160665} epoch =90 , train loss = 898.2269038348131\n",
      "top 5 accuracy=0.2897135416666667 {'accuracy': 0.10664819944598337} epoch =91 , train loss = 898.1862733285752\n",
      "top 5 accuracy=0.2857349537037037 {'accuracy': 0.10803324099722991} epoch =92 , train loss = 898.059505834266\n",
      "top 5 accuracy=0.28609664351851855 {'accuracy': 0.10872576177285319} epoch =93 , train loss = 898.05344912032\n",
      "top 5 accuracy=0.2957175925925926 {'accuracy': 0.10734072022160665} epoch =94 , train loss = 897.9964978437469\n",
      "top 5 accuracy=0.2913773148148148 {'accuracy': 0.10734072022160665} epoch =95 , train loss = 897.8775150585623\n",
      "top 5 accuracy=0.28609664351851855 {'accuracy': 0.10803324099722991} epoch =96 , train loss = 897.767256821825\n",
      "top 5 accuracy=0.2890625 {'accuracy': 0.10872576177285319} epoch =97 , train loss = 897.6756988176157\n",
      "top 5 accuracy=0.2804542824074074 {'accuracy': 0.10803324099722991} epoch =98 , train loss = 897.6936014157505\n"
     ]
    }
   ],
   "source": [
    "from torch.utils.data import DataLoader\n",
    "num_class = len(concated_data_df['conceptUri'].unique())\n",
    "embeder= SentenceTransformer('output/make-multilingual-en-de-en-nl-2022-04-30_22-23-09', device=\"cuda:0\")\n",
    "for lang in ['de','nl','pt']:\n",
    "\n",
    "    print(lang)\n",
    "    \n",
    "    train_loader, test_loader = make_train_test(embeder, concated_data_df,lang, batch_size = 128)\n",
    "    one_layer_model = TinyModel(embed_dim=768,num_class=num_class)\n",
    "    train(one_layer_model, train_loader, test_loader, num_class ,device='cuda:1',learning_rate=1e-3,epoch_num=100,best_ouput=f'output/multi/{lang}.pt' )"
   ]
  },
  {
   "cell_type": "code",
   "execution_count": null,
   "id": "dcef858d-00e0-407d-bf47-a29d48f2dcad",
   "metadata": {},
   "outputs": [],
   "source": [
    "# device='cuda:0'\n",
    "\n",
    "# texts = [item['title'].lower()+' '+item['description'].lower() for item in batch_data]\n",
    "# embeds = student_model.encode(texts)\n",
    "# lang_occupation_occupations_embeds = student_model.encode(lang_occupation_occupations['text'].tolist())\n",
    "# torch_embeds = torch.from_numpy(embeds).to(device)\n",
    "# torch_classes = torch.from_numpy(np.array(lang_occupation_occupations_embeds)).to(device).T\n",
    "# # print(torch_embeds.size())\n",
    "# # print(torch_classes.size())\n",
    "# y_score = torch.mm(torch_embeds,torch_classes)\n",
    "# y_score = y_score.cpu().data.numpy()\n",
    "# # print(y_score.shape)\n",
    "# # print(y_true.shape)\n",
    "# # print(torch.topk(dists, 5,dim=-1).indices) \n",
    "# topk_acc = top_k_accuracy_score(y_true, y_score, k=5, normalize=True, labels=list(range(len(lang_occupation_occupations))))\n",
    "# logger.info(f\"topk accuracy = {topk_acc}\")"
   ]
  }
 ],
 "metadata": {
  "kernelspec": {
   "display_name": "Python 3 (ipykernel)",
   "language": "python",
   "name": "python3"
  },
  "language_info": {
   "codemirror_mode": {
    "name": "ipython",
    "version": 3
   },
   "file_extension": ".py",
   "mimetype": "text/x-python",
   "name": "python",
   "nbconvert_exporter": "python",
   "pygments_lexer": "ipython3",
   "version": "3.8.10"
  }
 },
 "nbformat": 4,
 "nbformat_minor": 5
}
