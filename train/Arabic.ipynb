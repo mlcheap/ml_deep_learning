{
 "cells": [
  {
   "cell_type": "code",
   "execution_count": 2,
   "id": "c2abe9ec-3f9f-47f7-8915-ede502015da1",
   "metadata": {},
   "outputs": [],
   "source": [
    "import pandas as pd\n",
    "from torch.utils.data import Dataset,DataLoader\n",
    "from sentence_transformers import SentenceTransformer , LoggingHandler, losses\n",
    "from scipy.spatial.distance import cosine, euclidean, canberra, braycurtis, chebyshev, cityblock\n",
    "from sklearn.metrics import accuracy_score\n",
    "import torch.multiprocessing\n",
    "import numpy as np\n",
    "from sklearn.metrics import top_k_accuracy_score\n",
    "from datetime import datetime\n",
    "import logging\n",
    "from sentence_transformers.datasets import ParallelSentencesDataset\n",
    "import pickle\n",
    "logging.basicConfig(format='%(asctime)s - %(message)s',\n",
    "                    datefmt='%Y-%m-%d %H:%M:%S',\n",
    "                    level=logging.INFO,\n",
    "                    handlers=[LoggingHandler()])\n",
    "logger = logging.getLogger(__name__)\n",
    "\n",
    "\n",
    "lang = 'ar'"
   ]
  },
  {
   "cell_type": "code",
   "execution_count": 3,
   "id": "a1762749-1033-454a-9286-8c19dfbe2c30",
   "metadata": {},
   "outputs": [],
   "source": [
    "# read csv files "
   ]
  },
  {
   "cell_type": "code",
   "execution_count": 4,
   "id": "fbd298b5-1264-4bd1-b14c-30f7b0dccc4c",
   "metadata": {},
   "outputs": [
    {
     "name": "stderr",
     "output_type": "stream",
     "text": [
      "/tmp/ipykernel_2437017/1139444762.py:4: DtypeWarning: Columns (10,11) have mixed types. Specify dtype option on import or set low_memory=False.\n",
      "  all_occupations = pd.read_csv(base_data_path+'esco_occupations.csv')\n",
      "/tmp/ipykernel_2437017/1139444762.py:6: DtypeWarning: Columns (1,2,3,4,6,7,8,9,10) have mixed types. Specify dtype option on import or set low_memory=False.\n",
      "  graphdf = pd.read_csv(base_data_path+'graphs.csv')\n"
     ]
    }
   ],
   "source": [
    "base_data_path = './model_data/'\n",
    "all_labels = pd.read_csv(base_data_path+'all_labels.csv')\n",
    "all_labels = all_labels[all_labels['lang']==lang]\n",
    "all_occupations = pd.read_csv(base_data_path+'esco_occupations.csv')\n",
    "all_skills = pd.read_csv(base_data_path+'all_skills.csv')\n",
    "graphdf = pd.read_csv(base_data_path+'graphs.csv')\n",
    "\n",
    "lang_all_occupation = all_occupations.loc[all_occupations['lang']==lang]\n",
    "lang_occupation_occupations = lang_all_occupation.loc[all_occupations['conceptType']=='Occupation']\n",
    "occ_skill_df = graphdf[graphdf['nodesTypes']=='nonhierarchical-occupation-skill']\n",
    "occ_skill_df = occ_skill_df[occ_skill_df['relationType']=='essential']\n",
    "occ_skill_df = occ_skill_df.groupby('occupationUri')['skillUri'].apply(list).reset_index(name='new')\n"
   ]
  },
  {
   "cell_type": "code",
   "execution_count": null,
   "id": "132cefd4-fd2c-4cd7-b193-57850a1ae40d",
   "metadata": {},
   "outputs": [],
   "source": [
    "#  create skill_texts dictionary that is "
   ]
  },
  {
   "cell_type": "code",
   "execution_count": 5,
   "id": "5fb3d88d-28e4-4d62-b0b1-dd17c4153433",
   "metadata": {},
   "outputs": [],
   "source": [
    "def skill_text(item):\n",
    "    preferredLabel = ''\n",
    "    altLabels = ''\n",
    "    description = ''\n",
    "    if str(item['preferredLabel']) !='nan':\n",
    "        preferredLabel = str(item['preferredLabel'])+' '\n",
    "    if str(item['altLabels']) != 'nan':\n",
    "        altLabels = str(item['altLabels']).replace('\\n',', ')\n",
    "    if str(item['description']) != 'nan':\n",
    "        description = str(item['description'])\n",
    "\n",
    "    return preferredLabel+' '+description+' '+altLabels"
   ]
  },
  {
   "cell_type": "code",
   "execution_count": 7,
   "id": "fc8e388b-b5f1-4f62-a21b-154a0b1910e5",
   "metadata": {},
   "outputs": [],
   "source": [
    "all_skills = all_skills[all_skills['lang']==lang]\n",
    "skill_texts = {}\n",
    "for idx, row in lang_occupation_occupations.iterrows():\n",
    "    skill_texts[row['conceptUri']]=''\n",
    "for idx, occ_skill in occ_skill_df.iterrows():\n",
    "    skill_uris = occ_skill['new']\n",
    "    occupationUri = occ_skill['occupationUri']\n",
    "    skills = all_skills[all_skills['conceptUri'].isin(skill_uris)]\n",
    "    skill_texts[occupationUri] = ', '.join([skill_text(item) for idx,item in skills.iterrows()])\n"
   ]
  },
  {
   "cell_type": "code",
   "execution_count": 8,
   "id": "00f2f655-1022-4618-8339-aef933e876f0",
   "metadata": {},
   "outputs": [],
   "source": [
    "class EscoOccupationsDataset(Dataset):\n",
    "    def __init__(self,conceptUriMapRev,  occupations_df, lang):\n",
    "        self.conceptUriMapRev = conceptUriMapRev\n",
    "        self.occupations = occupations_df.loc[occupations_df['lang']==lang]\n",
    "\n",
    "    def __len__(self):\n",
    "        return len(self.occupations)\n",
    "\n",
    "    def __getitem__(self, idx):\n",
    "        row = self.occupations.iloc[idx]\n",
    "        title = str(row['preferredLabel']).lower()\n",
    "        alternatives = lang_occupation_occupations.iloc[0]['altLabels'].replace('\\n',' , ').lower()\n",
    "        if len(alternatives)>0:\n",
    "            title  = title+' , '+alternatives\n",
    "        description = str(row['description']).replace('\\n',' ').lower()\n",
    "        _id = self.conceptUriMapRev[row['conceptUri']]\n",
    "        return _id, f\"title: {title} \\n description: {description}\""
   ]
  },
  {
   "cell_type": "code",
   "execution_count": 9,
   "id": "fb571240-02db-476a-b4bb-13e9090f3e65",
   "metadata": {},
   "outputs": [
    {
     "data": {
      "text/plain": [
       "2515"
      ]
     },
     "execution_count": 9,
     "metadata": {},
     "output_type": "execute_result"
    }
   ],
   "source": [
    "test_df = all_labels\n",
    "len(test_df)"
   ]
  },
  {
   "cell_type": "code",
   "execution_count": 10,
   "id": "bffc9b42-7998-4c57-80ce-6d2a54b51ae5",
   "metadata": {},
   "outputs": [
    {
     "data": {
      "text/html": [
       "<div>\n",
       "<style scoped>\n",
       "    .dataframe tbody tr th:only-of-type {\n",
       "        vertical-align: middle;\n",
       "    }\n",
       "\n",
       "    .dataframe tbody tr th {\n",
       "        vertical-align: top;\n",
       "    }\n",
       "\n",
       "    .dataframe thead th {\n",
       "        text-align: right;\n",
       "    }\n",
       "</style>\n",
       "<table border=\"1\" class=\"dataframe\">\n",
       "  <thead>\n",
       "    <tr style=\"text-align: right;\">\n",
       "      <th></th>\n",
       "      <th>Unnamed: 0</th>\n",
       "      <th>project_name</th>\n",
       "      <th>description</th>\n",
       "      <th>title</th>\n",
       "      <th>occupation_title</th>\n",
       "      <th>occupation_id</th>\n",
       "      <th>task_id</th>\n",
       "      <th>iscoGroup</th>\n",
       "      <th>conceptUri</th>\n",
       "      <th>isco_preferredLabel</th>\n",
       "      <th>altLabels</th>\n",
       "      <th>isco_description</th>\n",
       "      <th>lang</th>\n",
       "    </tr>\n",
       "  </thead>\n",
       "  <tbody>\n",
       "    <tr>\n",
       "      <th>8427</th>\n",
       "      <td>8427</td>\n",
       "      <td>SAU</td>\n",
       "      <td>مهندس اتصالات وشبكات\\nإدارة ومراقبة العمل\\nكتا...</td>\n",
       "      <td>مهندس اتصالات</td>\n",
       "      <td>مهندس اتصالات / مهندسة اتصالات</td>\n",
       "      <td>45</td>\n",
       "      <td>61dde5ad527776b760a866b4</td>\n",
       "      <td>2153.0</td>\n",
       "      <td>http://data.europa.eu/esco/occupation/02eb0ae6...</td>\n",
       "      <td>مهندس اتصالات / مهندسة اتصالات</td>\n",
       "      <td>NaN</td>\n",
       "      <td>NaN</td>\n",
       "      <td>ar</td>\n",
       "    </tr>\n",
       "  </tbody>\n",
       "</table>\n",
       "</div>"
      ],
      "text/plain": [
       "      Unnamed: 0 project_name  \\\n",
       "8427        8427          SAU   \n",
       "\n",
       "                                            description          title  \\\n",
       "8427  مهندس اتصالات وشبكات\\nإدارة ومراقبة العمل\\nكتا...  مهندس اتصالات   \n",
       "\n",
       "                    occupation_title  occupation_id                   task_id  \\\n",
       "8427  مهندس اتصالات / مهندسة اتصالات             45  61dde5ad527776b760a866b4   \n",
       "\n",
       "      iscoGroup                                         conceptUri  \\\n",
       "8427     2153.0  http://data.europa.eu/esco/occupation/02eb0ae6...   \n",
       "\n",
       "                 isco_preferredLabel altLabels isco_description lang  \n",
       "8427  مهندس اتصالات / مهندسة اتصالات       NaN              NaN   ar  "
      ]
     },
     "execution_count": 10,
     "metadata": {},
     "output_type": "execute_result"
    }
   ],
   "source": [
    "test_df.head(1)"
   ]
  },
  {
   "cell_type": "code",
   "execution_count": null,
   "id": "14252151-e3c0-4269-af95-a7d8b63eeb0c",
   "metadata": {},
   "outputs": [],
   "source": [
    "# consider just most frequent  "
   ]
  },
  {
   "cell_type": "code",
   "execution_count": 11,
   "id": "7251d9bb-0e02-45a6-9faf-24965c37a879",
   "metadata": {},
   "outputs": [
    {
     "data": {
      "text/plain": [
       "1242"
      ]
     },
     "execution_count": 11,
     "metadata": {},
     "output_type": "execute_result"
    }
   ],
   "source": [
    "from collections import Counter\n",
    " \n",
    "def most_frequent(List):\n",
    "    occurence_count = Counter(List)\n",
    "    return occurence_count.most_common(1)[0][0]\n",
    "test_df = test_df[~test_df['conceptUri'].isna()]\n",
    "stack_descripts = []\n",
    "unsimilar_tests = []\n",
    "for _,row in test_df.iterrows():\n",
    "    if row['description'] not in stack_descripts:\n",
    "        conceptUri = most_frequent(test_df.loc[test_df['description']==row['description']]['conceptUri'])\n",
    "        stack_descripts.append(row['description'])\n",
    "        unsimilar_tests.append({'conceptUri':conceptUri, 'description':row['description'],'preferredLabel':row['title']})\n",
    "test_df = pd.DataFrame(unsimilar_tests)\n",
    "len(test_df)"
   ]
  },
  {
   "cell_type": "code",
   "execution_count": null,
   "id": "34d9b033-1d7c-4252-871f-0e20ec441043",
   "metadata": {},
   "outputs": [],
   "source": [
    "# load pretrain embeder"
   ]
  },
  {
   "cell_type": "code",
   "execution_count": 13,
   "id": "da033c8a-013a-4262-900d-987b2e29a1bf",
   "metadata": {},
   "outputs": [
    {
     "name": "stdout",
     "output_type": "stream",
     "text": [
      "2022-05-01 18:32:37 - Load pretrained SentenceTransformer: paraphrase-multilingual-mpnet-base-v2\n",
      "2022-05-01 18:32:48 - Use pytorch device: cuda\n"
     ]
    }
   ],
   "source": [
    "model_name = 'paraphrase-multilingual-mpnet-base-v2'\n",
    "embedder = SentenceTransformer(model_name)"
   ]
  },
  {
   "cell_type": "code",
   "execution_count": 15,
   "id": "62ae734a-2d0d-40a4-851e-a3663fc9a720",
   "metadata": {},
   "outputs": [],
   "source": [
    "# embed esco and label data"
   ]
  },
  {
   "cell_type": "code",
   "execution_count": 16,
   "id": "c5c9ff92-c226-426f-9d2d-809d299c8acb",
   "metadata": {},
   "outputs": [
    {
     "data": {
      "application/vnd.jupyter.widget-view+json": {
       "model_id": "469850f213de4915853a76a1bbc2e61a",
       "version_major": 2,
       "version_minor": 0
      },
      "text/plain": [
       "Batches:   0%|          | 0/39 [00:00<?, ?it/s]"
      ]
     },
     "metadata": {},
     "output_type": "display_data"
    },
    {
     "data": {
      "application/vnd.jupyter.widget-view+json": {
       "model_id": "72f4d87352c0421ea4ea481016cd2213",
       "version_major": 2,
       "version_minor": 0
      },
      "text/plain": [
       "Batches:   0%|          | 0/94 [00:00<?, ?it/s]"
      ]
     },
     "metadata": {},
     "output_type": "display_data"
    }
   ],
   "source": [
    "test_df['text'] = [row['preferredLabel']+'\\n'+row['description'] for idx, row in test_df.iterrows()]\n",
    "lang_occupation_occupations['text']= [str(row['preferredLabel'])+\"\\n\"+str(row['description'])+', '+ str(row['altLabels']).replace('\\n',', ')  for idx, row in lang_occupation_occupations.iterrows()]\n",
    "lang_occupation_occupations['class'] = list(range(0,len(lang_occupation_occupations)))\n",
    "test_embeds = embedder.encode(test_df['text'].tolist())\n",
    "lang_occupation_occupations_embeds = embedder.encode(lang_occupation_occupations['text'].tolist())"
   ]
  },
  {
   "cell_type": "code",
   "execution_count": 18,
   "id": "f16cf43c-d9d9-4eaa-86c6-853ca7dc2ebb",
   "metadata": {},
   "outputs": [],
   "source": [
    "# create test data"
   ]
  },
  {
   "cell_type": "code",
   "execution_count": 17,
   "id": "f1e84dce-0842-4838-ae46-80604e59a4ff",
   "metadata": {},
   "outputs": [],
   "source": [
    "test_data = []\n",
    "for ids, item in test_df.iterrows():\n",
    "    test_data.append({'title': item['preferredLabel'],'description':item['description']})"
   ]
  },
  {
   "cell_type": "code",
   "execution_count": 18,
   "id": "f3b1daa1-e360-4319-abfc-ba09f8a047de",
   "metadata": {},
   "outputs": [],
   "source": [
    "labels = []\n",
    "for ids, item in test_df.iterrows():\n",
    "    conceptUri = item['conceptUri']\n",
    "    class_id = lang_occupation_occupations[lang_occupation_occupations['conceptUri']==conceptUri].iloc[0]['class']\n",
    "    labels.append(class_id)\n",
    "y_true = np.array(labels)"
   ]
  },
  {
   "cell_type": "code",
   "execution_count": 19,
   "id": "49ee1f0d-65d9-406f-bde3-bfc8344c4353",
   "metadata": {},
   "outputs": [],
   "source": [
    "# embeder cosine model without training on embeddings "
   ]
  },
  {
   "cell_type": "code",
   "execution_count": 21,
   "id": "43dd3fd9-a8f8-4802-a91b-7a4a98ae6a14",
   "metadata": {},
   "outputs": [],
   "source": [
    "# ###### def deep_model(batch_text):\n",
    "# device='cuda:0'\n",
    "# texts = [item['title'].lower()+' '+item['description'].lower() for item in batch_data]\n",
    "# embeds = embedder.encode(texts)\n",
    "# torch_embeds = torch.from_numpy(embeds).to(device)\n",
    "# torch_classes = torch.from_numpy(np.array(lang_occupation_occupations_embeds)).to(device).T\n",
    "# y_score = torch.mm(torch_embeds,torch_classes)\n",
    "# y_score = y_score.cpu().data.numpy()\n",
    "# top_k_accuracy_score(y_true, y_score, k=5, normalize=True, labels=list(range(len(lang_occupation_occupations))))"
   ]
  },
  {
   "cell_type": "code",
   "execution_count": 22,
   "id": "d3c799fb-186b-4c52-a44d-ee8022da43ef",
   "metadata": {},
   "outputs": [],
   "source": [
    "# suppose english esco occupation and arabic esco occupation have same meaning and can be translate to each other so embedding of same occupation in two langguage have embedding "
   ]
  },
  {
   "cell_type": "code",
   "execution_count": 23,
   "id": "db6061d2-8630-471d-94f4-ac12fcac8442",
   "metadata": {},
   "outputs": [
    {
     "name": "stderr",
     "output_type": "stream",
     "text": [
      "/tmp/ipykernel_2437017/2767555548.py:1: DtypeWarning: Columns (10,11) have mixed types. Specify dtype option on import or set low_memory=False.\n",
      "  esco_occupations = pd.read_csv(base_data_path+'esco_occupations.csv')\n"
     ]
    },
    {
     "data": {
      "text/html": [
       "<div>\n",
       "<style scoped>\n",
       "    .dataframe tbody tr th:only-of-type {\n",
       "        vertical-align: middle;\n",
       "    }\n",
       "\n",
       "    .dataframe tbody tr th {\n",
       "        vertical-align: top;\n",
       "    }\n",
       "\n",
       "    .dataframe thead th {\n",
       "        text-align: right;\n",
       "    }\n",
       "</style>\n",
       "<table border=\"1\" class=\"dataframe\">\n",
       "  <thead>\n",
       "    <tr style=\"text-align: right;\">\n",
       "      <th></th>\n",
       "      <th>Unnamed: 0_x</th>\n",
       "      <th>conceptType_x</th>\n",
       "      <th>conceptUri</th>\n",
       "      <th>iscoGroup_x</th>\n",
       "      <th>preferredLabel_x</th>\n",
       "      <th>altLabels_x</th>\n",
       "      <th>hiddenLabels_x</th>\n",
       "      <th>status_x</th>\n",
       "      <th>modifiedDate_x</th>\n",
       "      <th>regulatedProfessionNote_x</th>\n",
       "      <th>...</th>\n",
       "      <th>regulatedProfessionNote_y</th>\n",
       "      <th>scopeNote_y</th>\n",
       "      <th>definition_y</th>\n",
       "      <th>inScheme_y</th>\n",
       "      <th>ar_description</th>\n",
       "      <th>code_y</th>\n",
       "      <th>lang_y</th>\n",
       "      <th>esco_version_y</th>\n",
       "      <th>occupation_id_y</th>\n",
       "      <th>external_id_y</th>\n",
       "    </tr>\n",
       "  </thead>\n",
       "  <tbody>\n",
       "    <tr>\n",
       "      <th>0</th>\n",
       "      <td>24064</td>\n",
       "      <td>Occupation</td>\n",
       "      <td>http://data.europa.eu/esco/occupation/00030d09...</td>\n",
       "      <td>2654</td>\n",
       "      <td>technical director</td>\n",
       "      <td>technical and operations director\\nhead of tec...</td>\n",
       "      <td>NaN</td>\n",
       "      <td>released</td>\n",
       "      <td>2016-07-05T13:58:41Z</td>\n",
       "      <td>http://data.europa.eu/esco/regulated-professio...</td>\n",
       "      <td>...</td>\n",
       "      <td>http://data.europa.eu/esco/regulated-professio...</td>\n",
       "      <td>NaN</td>\n",
       "      <td>NaN</td>\n",
       "      <td>http://data.europa.eu/esco/concept-scheme/occu...</td>\n",
       "      <td>يدرك المديرون الفنيون الرؤى الفنية للمبتكرين ض...</td>\n",
       "      <td>2654.1.7</td>\n",
       "      <td>ar</td>\n",
       "      <td>v1.1.0</td>\n",
       "      <td>2.0</td>\n",
       "      <td>http://data.europa.eu/esco/occupation/00030d09...</td>\n",
       "    </tr>\n",
       "  </tbody>\n",
       "</table>\n",
       "<p>1 rows × 37 columns</p>\n",
       "</div>"
      ],
      "text/plain": [
       "   Unnamed: 0_x conceptType_x  \\\n",
       "0         24064    Occupation   \n",
       "\n",
       "                                          conceptUri  iscoGroup_x  \\\n",
       "0  http://data.europa.eu/esco/occupation/00030d09...         2654   \n",
       "\n",
       "     preferredLabel_x                                        altLabels_x  \\\n",
       "0  technical director  technical and operations director\\nhead of tec...   \n",
       "\n",
       "  hiddenLabels_x  status_x        modifiedDate_x  \\\n",
       "0            NaN  released  2016-07-05T13:58:41Z   \n",
       "\n",
       "                           regulatedProfessionNote_x  ...  \\\n",
       "0  http://data.europa.eu/esco/regulated-professio...  ...   \n",
       "\n",
       "                           regulatedProfessionNote_y scopeNote_y definition_y  \\\n",
       "0  http://data.europa.eu/esco/regulated-professio...         NaN          NaN   \n",
       "\n",
       "                                          inScheme_y  \\\n",
       "0  http://data.europa.eu/esco/concept-scheme/occu...   \n",
       "\n",
       "                                      ar_description    code_y lang_y  \\\n",
       "0  يدرك المديرون الفنيون الرؤى الفنية للمبتكرين ض...  2654.1.7     ar   \n",
       "\n",
       "   esco_version_y occupation_id_y  \\\n",
       "0          v1.1.0             2.0   \n",
       "\n",
       "                                       external_id_y  \n",
       "0  http://data.europa.eu/esco/occupation/00030d09...  \n",
       "\n",
       "[1 rows x 37 columns]"
      ]
     },
     "execution_count": 23,
     "metadata": {},
     "output_type": "execute_result"
    }
   ],
   "source": [
    "esco_occupations = pd.read_csv(base_data_path+'esco_occupations.csv')\n",
    "en_esco_occupations = esco_occupations.loc[esco_occupations['lang']=='en'].copy()\n",
    "en_esco_occupations = en_esco_occupations.rename(columns={'description':'en_description'})\n",
    "ar_esco_occupations = esco_occupations.loc[esco_occupations['lang']=='ar'].copy()\n",
    "ar_esco_occupations = ar_esco_occupations.rename(columns={'description':'ar_description'})\n",
    "en_ar_esco_occupations = pd.merge(en_esco_occupations, ar_esco_occupations, on='conceptUri')\n",
    "en_ar_esco_occupations.head(1)"
   ]
  },
  {
   "cell_type": "code",
   "execution_count": 25,
   "id": "42fba367-536d-496e-a3e0-f11d84aa974e",
   "metadata": {},
   "outputs": [],
   "source": [
    "# same discution of equal embedding in esco skills"
   ]
  },
  {
   "cell_type": "code",
   "execution_count": 26,
   "id": "585727ed-e341-46e9-a4cd-28e5e8660cd0",
   "metadata": {},
   "outputs": [
    {
     "data": {
      "text/html": [
       "<div>\n",
       "<style scoped>\n",
       "    .dataframe tbody tr th:only-of-type {\n",
       "        vertical-align: middle;\n",
       "    }\n",
       "\n",
       "    .dataframe tbody tr th {\n",
       "        vertical-align: top;\n",
       "    }\n",
       "\n",
       "    .dataframe thead th {\n",
       "        text-align: right;\n",
       "    }\n",
       "</style>\n",
       "<table border=\"1\" class=\"dataframe\">\n",
       "  <thead>\n",
       "    <tr style=\"text-align: right;\">\n",
       "      <th></th>\n",
       "      <th>Unnamed: 0_x</th>\n",
       "      <th>conceptType_x</th>\n",
       "      <th>conceptUri</th>\n",
       "      <th>skillType_x</th>\n",
       "      <th>reuseLevel_x</th>\n",
       "      <th>altLabels_x</th>\n",
       "      <th>en_description</th>\n",
       "      <th>lang_x</th>\n",
       "      <th>preferredLabel_x</th>\n",
       "      <th>Unnamed: 0_y</th>\n",
       "      <th>conceptType_y</th>\n",
       "      <th>skillType_y</th>\n",
       "      <th>reuseLevel_y</th>\n",
       "      <th>altLabels_y</th>\n",
       "      <th>ar_description</th>\n",
       "      <th>lang_y</th>\n",
       "      <th>preferredLabel_y</th>\n",
       "    </tr>\n",
       "  </thead>\n",
       "  <tbody>\n",
       "    <tr>\n",
       "      <th>0</th>\n",
       "      <td>0</td>\n",
       "      <td>KnowledgeSkillCompetence</td>\n",
       "      <td>http://data.europa.eu/esco/skill/0005c151-5b5a...</td>\n",
       "      <td>skill/competence</td>\n",
       "      <td>sector-specific</td>\n",
       "      <td>manage staff of music\\ncoordinate duties of mu...</td>\n",
       "      <td>Assign and manage staff tasks in areas such as...</td>\n",
       "      <td>en</td>\n",
       "      <td>NaN</td>\n",
       "      <td>101738</td>\n",
       "      <td>KnowledgeSkillCompetence</td>\n",
       "      <td>skill/competence</td>\n",
       "      <td>sector-specific</td>\n",
       "      <td>NaN</td>\n",
       "      <td>توزيع مهام الفرق وإدارتها في مجالات مثل تسجيل ...</td>\n",
       "      <td>ar</td>\n",
       "      <td>NaN</td>\n",
       "    </tr>\n",
       "  </tbody>\n",
       "</table>\n",
       "</div>"
      ],
      "text/plain": [
       "   Unnamed: 0_x             conceptType_x  \\\n",
       "0             0  KnowledgeSkillCompetence   \n",
       "\n",
       "                                          conceptUri       skillType_x  \\\n",
       "0  http://data.europa.eu/esco/skill/0005c151-5b5a...  skill/competence   \n",
       "\n",
       "      reuseLevel_x                                        altLabels_x  \\\n",
       "0  sector-specific  manage staff of music\\ncoordinate duties of mu...   \n",
       "\n",
       "                                      en_description lang_x preferredLabel_x  \\\n",
       "0  Assign and manage staff tasks in areas such as...     en              NaN   \n",
       "\n",
       "   Unnamed: 0_y             conceptType_y       skillType_y     reuseLevel_y  \\\n",
       "0        101738  KnowledgeSkillCompetence  skill/competence  sector-specific   \n",
       "\n",
       "  altLabels_y                                     ar_description lang_y  \\\n",
       "0         NaN  توزيع مهام الفرق وإدارتها في مجالات مثل تسجيل ...     ar   \n",
       "\n",
       "  preferredLabel_y  \n",
       "0              NaN  "
      ]
     },
     "execution_count": 26,
     "metadata": {},
     "output_type": "execute_result"
    }
   ],
   "source": [
    "esco_skills = pd.read_csv(base_data_path+'all_skills.csv')\n",
    "en_esco_skills = esco_skills.loc[esco_skills['lang']=='en'].copy()\n",
    "en_esco_skills = en_esco_skills.rename(columns={'description':'en_description'})\n",
    "ar_esco_skills = esco_skills.loc[esco_skills['lang']=='ar'].copy()\n",
    "ar_esco_skills = ar_esco_skills.rename(columns={'description':'ar_description'})\n",
    "en_ar_esco_skills = pd.merge(en_esco_skills, ar_esco_skills, on='conceptUri')\n",
    "en_ar_esco_skills.head(1)\n"
   ]
  },
  {
   "cell_type": "code",
   "execution_count": 1,
   "id": "81a04525-1b16-4f24-9269-a23d760e0950",
   "metadata": {},
   "outputs": [
    {
     "ename": "NameError",
     "evalue": "name 'en_ar_esco_occupations' is not defined",
     "output_type": "error",
     "traceback": [
      "\u001b[0;31m---------------------------------------------------------------------------\u001b[0m",
      "\u001b[0;31mNameError\u001b[0m                                 Traceback (most recent call last)",
      "Input \u001b[0;32mIn [1]\u001b[0m, in \u001b[0;36m<cell line: 5>\u001b[0;34m()\u001b[0m\n\u001b[1;32m      2\u001b[0m     \u001b[38;5;28;01mreturn\u001b[39;00m \u001b[38;5;124mf\u001b[39m\u001b[38;5;124m\"\u001b[39m\u001b[38;5;132;01m{\u001b[39;00mtitle\u001b[38;5;132;01m}\u001b[39;00m\u001b[38;5;124m \u001b[39m\u001b[38;5;132;01m{\u001b[39;00mdescription\u001b[38;5;132;01m}\u001b[39;00m\u001b[38;5;124m\"\u001b[39m\n\u001b[1;32m      4\u001b[0m sentences \u001b[38;5;241m=\u001b[39m []\n\u001b[0;32m----> 5\u001b[0m \u001b[38;5;28;01mfor\u001b[39;00m idx, row \u001b[38;5;129;01min\u001b[39;00m \u001b[43men_ar_esco_occupations\u001b[49m\u001b[38;5;241m.\u001b[39miterrows():\n\u001b[1;32m      6\u001b[0m     sentences\u001b[38;5;241m.\u001b[39mappend([get_sentece(row[\u001b[38;5;124m'\u001b[39m\u001b[38;5;124mpreferredLabel_x\u001b[39m\u001b[38;5;124m'\u001b[39m], row[\u001b[38;5;124m'\u001b[39m\u001b[38;5;124men_description\u001b[39m\u001b[38;5;124m'\u001b[39m]),get_sentece(row[\u001b[38;5;124m'\u001b[39m\u001b[38;5;124mpreferredLabel_y\u001b[39m\u001b[38;5;124m'\u001b[39m], row[\u001b[38;5;124m'\u001b[39m\u001b[38;5;124mar_description\u001b[39m\u001b[38;5;124m'\u001b[39m])])\n\u001b[1;32m      7\u001b[0m \u001b[38;5;28;01mfor\u001b[39;00m idx, row \u001b[38;5;129;01min\u001b[39;00m en_ar_esco_skills\u001b[38;5;241m.\u001b[39miterrows():\n",
      "\u001b[0;31mNameError\u001b[0m: name 'en_ar_esco_occupations' is not defined"
     ]
    }
   ],
   "source": [
    "def get_sentece(title, description):\n",
    "    return f\"{title} {description}\"\n",
    "\n",
    "sentences = []\n",
    "for idx, row in en_ar_esco_occupations.iterrows():\n",
    "    sentences.append([get_sentece(row['preferredLabel_x'], row['en_description']),get_sentece(row['preferredLabel_y'], row['ar_description'])])\n",
    "for idx, row in en_ar_esco_skills.iterrows():\n",
    "    sentences.append([get_sentece(row['preferredLabel_x'], row['en_description']),get_sentece(row['preferredLabel_y'], row['ar_description'])])\n",
    "for idx, row in en_ar_esco_occupations.iterrows():\n",
    "    sentences.append([get_sentece(row['preferredLabel_x'], row['en_description']),get_sentece(row['preferredLabel_x'], row['en_description'])])\n",
    "for idx, row in en_ar_esco_skills.iterrows():\n",
    "    sentences.append([get_sentece(row['preferredLabel_x'], row['en_description']),get_sentece(row['preferredLabel_x'], row['en_description'])])"
   ]
  },
  {
   "cell_type": "code",
   "execution_count": null,
   "id": "71a64f61-ace2-411f-8255-234825ad672e",
   "metadata": {},
   "outputs": [],
   "source": [
    "# train model "
   ]
  },
  {
   "cell_type": "code",
   "execution_count": 2,
   "id": "196b25c8-c57d-4341-b24f-72ef5225eeef",
   "metadata": {},
   "outputs": [
    {
     "ename": "NameError",
     "evalue": "name 'datetime' is not defined",
     "output_type": "error",
     "traceback": [
      "\u001b[0;31m---------------------------------------------------------------------------\u001b[0m",
      "\u001b[0;31mNameError\u001b[0m                                 Traceback (most recent call last)",
      "Input \u001b[0;32mIn [2]\u001b[0m, in \u001b[0;36m<cell line: 1>\u001b[0;34m()\u001b[0m\n\u001b[1;32m     19\u001b[0m source_languages \u001b[38;5;241m=\u001b[39m \u001b[38;5;28mset\u001b[39m([\u001b[38;5;124m'\u001b[39m\u001b[38;5;124men\u001b[39m\u001b[38;5;124m'\u001b[39m])                      \u001b[38;5;66;03m# Our teacher model accepts English (en) sentences\u001b[39;00m\n\u001b[1;32m     20\u001b[0m target_languages \u001b[38;5;241m=\u001b[39m \u001b[38;5;28mset\u001b[39m([\u001b[38;5;124m'\u001b[39m\u001b[38;5;124mar\u001b[39m\u001b[38;5;124m'\u001b[39m])    \u001b[38;5;66;03m# We want to extend the model to these new languages. For language codes, see the header of the train file\u001b[39;00m\n\u001b[0;32m---> 23\u001b[0m output_path \u001b[38;5;241m=\u001b[39m \u001b[38;5;124m\"\u001b[39m\u001b[38;5;124moutput/make-multilingual-\u001b[39m\u001b[38;5;124m\"\u001b[39m\u001b[38;5;241m+\u001b[39m\u001b[38;5;124m\"\u001b[39m\u001b[38;5;124m-\u001b[39m\u001b[38;5;124m\"\u001b[39m\u001b[38;5;241m.\u001b[39mjoin(\u001b[38;5;28msorted\u001b[39m(\u001b[38;5;28mlist\u001b[39m(source_languages))\u001b[38;5;241m+\u001b[39m\u001b[38;5;28msorted\u001b[39m(\u001b[38;5;28mlist\u001b[39m(target_languages)))\u001b[38;5;241m+\u001b[39m\u001b[38;5;124m\"\u001b[39m\u001b[38;5;124m-\u001b[39m\u001b[38;5;124m\"\u001b[39m\u001b[38;5;241m+\u001b[39m\u001b[43mdatetime\u001b[49m\u001b[38;5;241m.\u001b[39mnow()\u001b[38;5;241m.\u001b[39mstrftime(\u001b[38;5;124m\"\u001b[39m\u001b[38;5;124m%\u001b[39m\u001b[38;5;124mY-\u001b[39m\u001b[38;5;124m%\u001b[39m\u001b[38;5;124mm-\u001b[39m\u001b[38;5;132;01m%d\u001b[39;00m\u001b[38;5;124m_\u001b[39m\u001b[38;5;124m%\u001b[39m\u001b[38;5;124mH-\u001b[39m\u001b[38;5;124m%\u001b[39m\u001b[38;5;124mM-\u001b[39m\u001b[38;5;124m%\u001b[39m\u001b[38;5;124mS\u001b[39m\u001b[38;5;124m\"\u001b[39m)\n\u001b[1;32m     26\u001b[0m logger\u001b[38;5;241m.\u001b[39minfo(\u001b[38;5;124m\"\u001b[39m\u001b[38;5;124mLoad teacher model\u001b[39m\u001b[38;5;124m\"\u001b[39m)\n\u001b[1;32m     27\u001b[0m teacher_model \u001b[38;5;241m=\u001b[39m SentenceTransformer(teacher_model_name)\n",
      "\u001b[0;31mNameError\u001b[0m: name 'datetime' is not defined"
     ]
    }
   ],
   "source": [
    "for num_epochs in [10]:\n",
    "    teacher_model_name = 'paraphrase-multilingual-mpnet-base-v2'   #Our monolingual teacher model, we want to convert to multiple languages\n",
    "    student_model_name = 'paraphrase-multilingual-mpnet-base-v2'       #Multilingual base model we use to imitate the teacher model\n",
    "\n",
    "\n",
    "    max_seq_length = 256                #Student model max. lengths for inputs (number of word pieces)\n",
    "    train_batch_size = 64               #Batch size for training\n",
    "    inference_batch_size = 64           #Batch size at inference\n",
    "    max_sentences_per_language = 500000 #Maximum number of  parallel sentences for training\n",
    "    train_max_sentence_length = 256     #Maximum length (characters) for parallel training sentences\n",
    "\n",
    "    num_warmup_steps = 1000             #Warumup steps\n",
    "\n",
    "    num_evaluation_steps = 1000          #Evaluate performance after every xxxx steps\n",
    "    dev_sentences = 1000                 #Number of parallel sentences to be used for development\n",
    "\n",
    "\n",
    "    # Define the language codes you would like to extend the model to\n",
    "    source_languages = set(['en'])                      # Our teacher model accepts English (en) sentences\n",
    "    target_languages = set(['ar'])    # We want to extend the model to these new languages. For language codes, see the header of the train file\n",
    "\n",
    "\n",
    "    output_path = \"output/make-multilingual-\"+\"-\".join(sorted(list(source_languages))+sorted(list(target_languages)))+\"-\"+datetime.now().strftime(\"%Y-%m-%d_%H-%M-%S\")\n",
    "\n",
    "\n",
    "    logger.info(\"Load teacher model\")\n",
    "    teacher_model = SentenceTransformer(teacher_model_name)\n",
    "\n",
    "\n",
    "    logger.info(\"Create student model from scratch\")\n",
    "\n",
    "    student_model = SentenceTransformer(student_model_name)\n",
    "\n",
    "\n",
    "    ###### Read Parallel Sentences Dataset ######\n",
    "    train_data = ParallelSentencesDataset(student_model=student_model, teacher_model=teacher_model, batch_size=inference_batch_size, use_embedding_cache=True)\n",
    "    train_data.add_dataset(parallel_sentences=sentences, max_sentences=max_sentences_per_language, max_sentence_length=train_max_sentence_length)\n",
    "\n",
    "    train_dataloader = DataLoader(train_data, shuffle=True, batch_size=train_batch_size)\n",
    "    train_loss = losses.MSELoss(model=student_model)\n",
    "\n",
    "\n",
    "\n",
    "\n",
    "    # Train the model\n",
    "    student_model.fit(train_objectives=[(train_dataloader, train_loss)],\n",
    "              # evaluator=evaluation.SequentialEvaluator(evaluators, main_score_function=lambda scores: np.mean(scores)),\n",
    "              epochs=num_epochs,\n",
    "              warmup_steps=num_warmup_steps,\n",
    "              # evaluation_steps=num_evaluation_steps,\n",
    "              output_path=output_path,\n",
    "              save_best_model=True,\n",
    "              optimizer_params= {'lr': 2e-5, 'eps': 1e-6, 'correct_bias': False}\n",
    "              )\n"
   ]
  },
  {
   "cell_type": "code",
   "execution_count": 3,
   "id": "dcef858d-00e0-407d-bf47-a29d48f2dcad",
   "metadata": {},
   "outputs": [
    {
     "ename": "NameError",
     "evalue": "name 'batch_data' is not defined",
     "output_type": "error",
     "traceback": [
      "\u001b[0;31m---------------------------------------------------------------------------\u001b[0m",
      "\u001b[0;31mNameError\u001b[0m                                 Traceback (most recent call last)",
      "Input \u001b[0;32mIn [3]\u001b[0m, in \u001b[0;36m<cell line: 3>\u001b[0;34m()\u001b[0m\n\u001b[1;32m      1\u001b[0m \u001b[38;5;66;03m# calculate topk accuracy of cosine classifier\u001b[39;00m\n\u001b[0;32m----> 3\u001b[0m texts \u001b[38;5;241m=\u001b[39m [item[\u001b[38;5;124m'\u001b[39m\u001b[38;5;124mtitle\u001b[39m\u001b[38;5;124m'\u001b[39m]\u001b[38;5;241m.\u001b[39mlower()\u001b[38;5;241m+\u001b[39m\u001b[38;5;124m'\u001b[39m\u001b[38;5;124m \u001b[39m\u001b[38;5;124m'\u001b[39m\u001b[38;5;241m+\u001b[39mitem[\u001b[38;5;124m'\u001b[39m\u001b[38;5;124mdescription\u001b[39m\u001b[38;5;124m'\u001b[39m]\u001b[38;5;241m.\u001b[39mlower() \u001b[38;5;28;01mfor\u001b[39;00m item \u001b[38;5;129;01min\u001b[39;00m \u001b[43mbatch_data\u001b[49m]\n\u001b[1;32m      4\u001b[0m embeds \u001b[38;5;241m=\u001b[39m student_model\u001b[38;5;241m.\u001b[39mencode(texts)\n\u001b[1;32m      5\u001b[0m lang_occupation_occupations_embeds \u001b[38;5;241m=\u001b[39m student_model\u001b[38;5;241m.\u001b[39mencode(lang_occupation_occupations[\u001b[38;5;124m'\u001b[39m\u001b[38;5;124mtext\u001b[39m\u001b[38;5;124m'\u001b[39m]\u001b[38;5;241m.\u001b[39mtolist())\n",
      "\u001b[0;31mNameError\u001b[0m: name 'batch_data' is not defined"
     ]
    }
   ],
   "source": [
    "# calculate topk accuracy of cosine classifier\n",
    "\n",
    "texts = [item['title'].lower()+' '+item['description'].lower() for item in batch_data]\n",
    "embeds = student_model.encode(texts)\n",
    "lang_occupation_occupations_embeds = student_model.encode(lang_occupation_occupations['text'].tolist())\n",
    "torch_embeds = torch.from_numpy(embeds).to(device)\n",
    "torch_classes = torch.from_numpy(np.array(lang_occupation_occupations_embeds)).to(device).T\n",
    "y_score = torch.mm(torch_embeds,torch_classes)\n",
    "y_score = y_score.cpu().data.numpy()\n",
    "topk_acc = top_k_accuracy_score(y_true, y_score, k=5, normalize=True, labels=list(range(len(lang_occupation_occupations))))\n",
    "logger.info(f\"topk accuracy = {topk_acc}\")\n"
   ]
  },
  {
   "cell_type": "code",
   "execution_count": 4,
   "id": "7bbf55cc-4af3-4ac4-8f14-ec3910f9e0f1",
   "metadata": {},
   "outputs": [],
   "source": [
    "# load model and see the results"
   ]
  },
  {
   "cell_type": "code",
   "execution_count": 5,
   "id": "60b5bfef-68d9-4863-b7ef-87f44f0ecf6e",
   "metadata": {},
   "outputs": [
    {
     "ename": "NameError",
     "evalue": "name 'SentenceTransformer' is not defined",
     "output_type": "error",
     "traceback": [
      "\u001b[0;31m---------------------------------------------------------------------------\u001b[0m",
      "\u001b[0;31mNameError\u001b[0m                                 Traceback (most recent call last)",
      "Input \u001b[0;32mIn [5]\u001b[0m, in \u001b[0;36m<cell line: 1>\u001b[0;34m()\u001b[0m\n\u001b[0;32m----> 1\u001b[0m model \u001b[38;5;241m=\u001b[39m \u001b[43mSentenceTransformer\u001b[49m(\u001b[38;5;124m'\u001b[39m\u001b[38;5;124moutput/make-multilingual-en-ar-2022-04-30_16-30-49\u001b[39m\u001b[38;5;124m'\u001b[39m)\n\u001b[1;32m      2\u001b[0m texts \u001b[38;5;241m=\u001b[39m [item[\u001b[38;5;124m'\u001b[39m\u001b[38;5;124mtitle\u001b[39m\u001b[38;5;124m'\u001b[39m]\u001b[38;5;241m.\u001b[39mlower()\u001b[38;5;241m+\u001b[39m\u001b[38;5;124m'\u001b[39m\u001b[38;5;124m \u001b[39m\u001b[38;5;124m'\u001b[39m\u001b[38;5;241m+\u001b[39mitem[\u001b[38;5;124m'\u001b[39m\u001b[38;5;124mdescription\u001b[39m\u001b[38;5;124m'\u001b[39m]\u001b[38;5;241m.\u001b[39mlower() \u001b[38;5;28;01mfor\u001b[39;00m item \u001b[38;5;129;01min\u001b[39;00m batch_data]\n\u001b[1;32m      3\u001b[0m embeds \u001b[38;5;241m=\u001b[39m model\u001b[38;5;241m.\u001b[39mencode(texts)\n",
      "\u001b[0;31mNameError\u001b[0m: name 'SentenceTransformer' is not defined"
     ]
    }
   ],
   "source": [
    "model = SentenceTransformer('output/make-multilingual-en-ar-2022-04-30_16-30-49')\n",
    "texts = [item['title'].lower()+' '+item['description'].lower() for item in batch_data]\n",
    "embeds = model.encode(texts)\n",
    "lang_occupation_occupations_embeds = model.encode(lang_occupation_occupations['text'].tolist())\n",
    "torch_embeds = torch.from_numpy(embeds).to(device)\n",
    "torch_classes = torch.from_numpy(np.array(lang_occupation_occupations_embeds)).to(device).T\n",
    "norm_torch_classes = torch_classes/torch.linalg.norm(torch_classes,axis=0)\n",
    "\n",
    "y_score = torch.mm(torch_embeds,torch_classes)\n",
    "y_score = y_score.cpu().data.numpy()\n",
    "topk_acc = top_k_accuracy_score(y_true, y_score, k=5, normalize=True, labels=list(range(len(lang_occupation_occupations))))\n",
    "logger.info(f\"topk accuracy = {topk_acc}\")"
   ]
  },
  {
   "cell_type": "code",
   "execution_count": 32,
   "id": "70e09944-d697-4ef2-bb43-5067f003de72",
   "metadata": {},
   "outputs": [],
   "source": [
    "with open('output/make-multilingual-en-ar-2022-04-30_16-30-49/classes.pickle', 'wb') as f:\n",
    "    pickle.dump(lang_occupation_occupations['conceptUri'].tolist(),f,protocol=pickle.HIGHEST_PROTOCOL)"
   ]
  },
  {
   "cell_type": "code",
   "execution_count": 33,
   "id": "d8888326-809b-45d8-ad3e-bff0e1ab363f",
   "metadata": {},
   "outputs": [],
   "source": [
    "with open('output/make-multilingual-en-ar-2022-04-30_16-30-49/embeds.pickle', 'wb') as f:\n",
    "    pickle.dump(lang_occupation_occupations_embeds,f,protocol=pickle.HIGHEST_PROTOCOL)\n"
   ]
  }
 ],
 "metadata": {
  "kernelspec": {
   "display_name": "Python 3 (ipykernel)",
   "language": "python",
   "name": "python3"
  },
  "language_info": {
   "codemirror_mode": {
    "name": "ipython",
    "version": 3
   },
   "file_extension": ".py",
   "mimetype": "text/x-python",
   "name": "python",
   "nbconvert_exporter": "python",
   "pygments_lexer": "ipython3",
   "version": "3.8.10"
  }
 },
 "nbformat": 4,
 "nbformat_minor": 5
}
