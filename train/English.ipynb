{
 "cells": [
  {
   "cell_type": "code",
   "execution_count": 2,
   "id": "1fc61623-a142-4c21-8455-92681d52a64c",
   "metadata": {},
   "outputs": [],
   "source": [
    "import pandas as pd\n",
    "from torch.utils.data import Dataset,DataLoader\n",
    "from sentence_transformers import SentenceTransformer\n",
    "from scipy.spatial.distance import cosine, euclidean, canberra, braycurtis, chebyshev, cityblock\n",
    "from sklearn.metrics import accuracy_score\n",
    "import matplotlib.pyplot as plt\n",
    "import torch.multiprocessing\n",
    "import networkx as nx\n",
    "import numpy as np\n",
    "from sklearn.metrics import top_k_accuracy_score\n",
    "from collections import Counter\n",
    "import pickle"
   ]
  },
  {
   "cell_type": "markdown",
   "id": "ae9ba813-1105-45b2-8e61-8ee6006b4705",
   "metadata": {},
   "source": [
    "# read csv files"
   ]
  },
  {
   "cell_type": "code",
   "execution_count": 5,
   "id": "69b88ea1-7e84-4cb6-a4e0-3d3898baf293",
   "metadata": {},
   "outputs": [],
   "source": [
    "lang = 'en'\n",
    "base_data_path = './model_data/'\n",
    "\n",
    "# read labels\n",
    "test_df = pd.read_csv(base_data_path+'all_labels.csv')\n",
    "test_df = test_df[test_df['lang']==lang]\n",
    "\n",
    "# read esco occupation data\n",
    "all_occupations = pd.read_csv(base_data_path+'all_occupations.csv')\n",
    "lang_all_occupation = all_occupations.loc[all_occupations['lang']=='en']\n",
    "lang_occupation_occupations = lang_all_occupation.loc[all_occupations['conceptType']=='Occupation']"
   ]
  },
  {
   "cell_type": "code",
   "execution_count": 6,
   "id": "3ef3eb3e-05d4-49b4-a5a9-7de08c51db2d",
   "metadata": {},
   "outputs": [
    {
     "data": {
      "text/html": [
       "<div>\n",
       "<style scoped>\n",
       "    .dataframe tbody tr th:only-of-type {\n",
       "        vertical-align: middle;\n",
       "    }\n",
       "\n",
       "    .dataframe tbody tr th {\n",
       "        vertical-align: top;\n",
       "    }\n",
       "\n",
       "    .dataframe thead th {\n",
       "        text-align: right;\n",
       "    }\n",
       "</style>\n",
       "<table border=\"1\" class=\"dataframe\">\n",
       "  <thead>\n",
       "    <tr style=\"text-align: right;\">\n",
       "      <th></th>\n",
       "      <th>Unnamed: 0</th>\n",
       "      <th>project_name</th>\n",
       "      <th>description</th>\n",
       "      <th>title</th>\n",
       "      <th>occupation_title</th>\n",
       "      <th>occupation_id</th>\n",
       "      <th>task_id</th>\n",
       "      <th>iscoGroup</th>\n",
       "      <th>conceptUri</th>\n",
       "      <th>isco_preferredLabel</th>\n",
       "      <th>altLabels</th>\n",
       "      <th>isco_description</th>\n",
       "      <th>lang</th>\n",
       "    </tr>\n",
       "  </thead>\n",
       "  <tbody>\n",
       "    <tr>\n",
       "      <th>0</th>\n",
       "      <td>0</td>\n",
       "      <td>GBR</td>\n",
       "      <td>Are you ready to find a new direction where yo...</td>\n",
       "      <td>Entry Level Sales Assistant</td>\n",
       "      <td>sales assistant</td>\n",
       "      <td>1864</td>\n",
       "      <td>61dde40c527776b760a85fa0</td>\n",
       "      <td>5223.0</td>\n",
       "      <td>http://data.europa.eu/esco/occupation/9ba74e8a...</td>\n",
       "      <td>sales assistant</td>\n",
       "      <td>senior sales assistant\\nsupermarket sales assi...</td>\n",
       "      <td>Sales assistants represent the direct contact ...</td>\n",
       "      <td>en</td>\n",
       "    </tr>\n",
       "  </tbody>\n",
       "</table>\n",
       "</div>"
      ],
      "text/plain": [
       "   Unnamed: 0 project_name                                        description  \\\n",
       "0           0          GBR  Are you ready to find a new direction where yo...   \n",
       "\n",
       "                         title occupation_title  occupation_id  \\\n",
       "0  Entry Level Sales Assistant  sales assistant           1864   \n",
       "\n",
       "                    task_id  iscoGroup  \\\n",
       "0  61dde40c527776b760a85fa0     5223.0   \n",
       "\n",
       "                                          conceptUri isco_preferredLabel  \\\n",
       "0  http://data.europa.eu/esco/occupation/9ba74e8a...     sales assistant   \n",
       "\n",
       "                                           altLabels  \\\n",
       "0  senior sales assistant\\nsupermarket sales assi...   \n",
       "\n",
       "                                    isco_description lang  \n",
       "0  Sales assistants represent the direct contact ...   en  "
      ]
     },
     "execution_count": 6,
     "metadata": {},
     "output_type": "execute_result"
    }
   ],
   "source": [
    "test_df.head(1)"
   ]
  },
  {
   "cell_type": "markdown",
   "id": "63dd81c4-2264-4682-9b7c-0c4b3b575b43",
   "metadata": {},
   "source": [
    "# just consider the most frequent label of a task as grandtruth label.\n"
   ]
  },
  {
   "cell_type": "code",
   "execution_count": 7,
   "id": "8afb226e-384e-437c-81d2-f0d350bc8014",
   "metadata": {},
   "outputs": [],
   "source": [
    "def most_frequent(List):\n",
    "    occurence_count = Counter(List)\n",
    "    return occurence_count.most_common(1)[0][0]\n",
    "\n",
    "\n",
    "test_df = test_df[~test_df['conceptUri'].isna()]\n",
    "\n",
    "test_df_goupby_tasks = test_df.groupby(['description','title'])['conceptUri'].apply(list).reset_index(name='new')\n",
    "test_df_goupby_tasks['conceptUri']= test_df_goupby_tasks['new'].apply(lambda item: most_frequent(item))"
   ]
  },
  {
   "cell_type": "code",
   "execution_count": 8,
   "id": "ce28c43b-7d9b-47cc-828e-0cc2301edcc2",
   "metadata": {},
   "outputs": [
    {
     "data": {
      "text/html": [
       "<div>\n",
       "<style scoped>\n",
       "    .dataframe tbody tr th:only-of-type {\n",
       "        vertical-align: middle;\n",
       "    }\n",
       "\n",
       "    .dataframe tbody tr th {\n",
       "        vertical-align: top;\n",
       "    }\n",
       "\n",
       "    .dataframe thead th {\n",
       "        text-align: right;\n",
       "    }\n",
       "</style>\n",
       "<table border=\"1\" class=\"dataframe\">\n",
       "  <thead>\n",
       "    <tr style=\"text-align: right;\">\n",
       "      <th></th>\n",
       "      <th>description</th>\n",
       "      <th>title</th>\n",
       "      <th>new</th>\n",
       "      <th>conceptUri</th>\n",
       "    </tr>\n",
       "  </thead>\n",
       "  <tbody>\n",
       "    <tr>\n",
       "      <th>0</th>\n",
       "      <td>4 x Warehouse Hygiene cleaner wanted Location:...</td>\n",
       "      <td>Warehouse Hygiene cleaner</td>\n",
       "      <td>[http://data.europa.eu/esco/occupation/bea705f...</td>\n",
       "      <td>http://data.europa.eu/esco/occupation/bea705fe...</td>\n",
       "    </tr>\n",
       "  </tbody>\n",
       "</table>\n",
       "</div>"
      ],
      "text/plain": [
       "                                         description  \\\n",
       "0  4 x Warehouse Hygiene cleaner wanted Location:...   \n",
       "\n",
       "                       title  \\\n",
       "0  Warehouse Hygiene cleaner   \n",
       "\n",
       "                                                 new  \\\n",
       "0  [http://data.europa.eu/esco/occupation/bea705f...   \n",
       "\n",
       "                                          conceptUri  \n",
       "0  http://data.europa.eu/esco/occupation/bea705fe...  "
      ]
     },
     "execution_count": 8,
     "metadata": {},
     "output_type": "execute_result"
    }
   ],
   "source": [
    "test_df_goupby_tasks.head(1)"
   ]
  },
  {
   "cell_type": "code",
   "execution_count": 6,
   "id": "6c23d728-4d0e-42da-9e42-b46796cc29f4",
   "metadata": {},
   "outputs": [
    {
     "data": {
      "text/html": [
       "<div>\n",
       "<style scoped>\n",
       "    .dataframe tbody tr th:only-of-type {\n",
       "        vertical-align: middle;\n",
       "    }\n",
       "\n",
       "    .dataframe tbody tr th {\n",
       "        vertical-align: top;\n",
       "    }\n",
       "\n",
       "    .dataframe thead th {\n",
       "        text-align: right;\n",
       "    }\n",
       "</style>\n",
       "<table border=\"1\" class=\"dataframe\">\n",
       "  <thead>\n",
       "    <tr style=\"text-align: right;\">\n",
       "      <th></th>\n",
       "      <th>Unnamed: 0</th>\n",
       "      <th>conceptType</th>\n",
       "      <th>conceptUri</th>\n",
       "      <th>preferredLabel</th>\n",
       "      <th>altLabels</th>\n",
       "      <th>description</th>\n",
       "      <th>lang</th>\n",
       "    </tr>\n",
       "  </thead>\n",
       "  <tbody>\n",
       "    <tr>\n",
       "      <th>619</th>\n",
       "      <td>619</td>\n",
       "      <td>Occupation</td>\n",
       "      <td>http://data.europa.eu/esco/occupation/00030d09...</td>\n",
       "      <td>technical director</td>\n",
       "      <td>technical and operations director\\nhead of tec...</td>\n",
       "      <td>Technical directors realise the artistic visio...</td>\n",
       "      <td>en</td>\n",
       "    </tr>\n",
       "  </tbody>\n",
       "</table>\n",
       "</div>"
      ],
      "text/plain": [
       "     Unnamed: 0 conceptType  \\\n",
       "619         619  Occupation   \n",
       "\n",
       "                                            conceptUri      preferredLabel  \\\n",
       "619  http://data.europa.eu/esco/occupation/00030d09...  technical director   \n",
       "\n",
       "                                             altLabels  \\\n",
       "619  technical and operations director\\nhead of tec...   \n",
       "\n",
       "                                           description lang  \n",
       "619  Technical directors realise the artistic visio...   en  "
      ]
     },
     "execution_count": 6,
     "metadata": {},
     "output_type": "execute_result"
    }
   ],
   "source": [
    "lang_occupation_occupations.head(1)"
   ]
  },
  {
   "cell_type": "markdown",
   "id": "9884c994-291f-40ed-b47b-08ff44ba8d51",
   "metadata": {},
   "source": [
    "# make train and test dataset"
   ]
  },
  {
   "cell_type": "code",
   "execution_count": 9,
   "id": "e3445644-6fe3-4b51-8654-e89ff79f1588",
   "metadata": {},
   "outputs": [],
   "source": [
    "\n",
    "tests_texts = (test_df_goupby_tasks['title']+'\\n'+test_df_goupby_tasks['description']).tolist()\n",
    "tests_occs = test_df_goupby_tasks['conceptUri']\n",
    "train_texts= (lang_occupation_occupations['preferredLabel']+\"\\n\"+lang_occupation_occupations['description']+', '+ lang_occupation_occupations['altLabels'].str.replace('\\n',', ')).tolist()\n",
    "train_occs = lang_occupation_occupations['conceptUri']\n",
    "tests_texts = [str(tt) for tt in tests_texts]\n",
    "train_texts = [str(tt) for tt in train_texts]\n",
    "class_map = {conceptUri:idx for idx,conceptUri in enumerate(lang_occupation_occupations['conceptUri'])}\n",
    "tests_class = [class_map[occ] for occ in tests_occs]\n",
    "train_class = [class_map[occ] for occ in train_occs]"
   ]
  },
  {
   "cell_type": "code",
   "execution_count": null,
   "id": "267265bf-deb0-49e5-b4c3-f1b0a4a76271",
   "metadata": {},
   "outputs": [],
   "source": [
    "# reverse map for finding class from index\n",
    "rev_class_map = {class_map[key]:key for key in class_map}"
   ]
  },
  {
   "cell_type": "markdown",
   "id": "746e8c97-72b1-4acd-8ec5-a5fb12da4894",
   "metadata": {},
   "source": [
    "# load pretrained model \"all-magnet-base-v2\""
   ]
  },
  {
   "cell_type": "code",
   "execution_count": 11,
   "id": "e69ae85b-c780-4fbc-bde3-07a9a76d10e8",
   "metadata": {},
   "outputs": [],
   "source": [
    "  \n",
    "model_name = 'all-mpnet-base-v2'\n",
    "embedder = SentenceTransformer(model_name)"
   ]
  },
  {
   "cell_type": "markdown",
   "id": "a5f14857-cc08-41a8-bdea-a35c2e03f9fd",
   "metadata": {},
   "source": [
    "# calculate center of each class ( we just use esco data so for each class we just have one data so center of class equal to embed of that sample)\n",
    "# calculate topk accuracy by knn for k=1"
   ]
  },
  {
   "cell_type": "code",
   "execution_count": 12,
   "id": "fcd92206-4c9b-4eb0-8045-76d8e8da9185",
   "metadata": {},
   "outputs": [
    {
     "data": {
      "text/plain": [
       "0.6644067796610169"
      ]
     },
     "execution_count": 12,
     "metadata": {},
     "output_type": "execute_result"
    }
   ],
   "source": [
    "device='cuda:1'\n",
    "tests_embeds = embedder.encode(tests_texts)\n",
    "train_embeds = embedder.encode(train_texts)\n",
    "\n",
    "test_embeds = torch.from_numpy(tests_embeds).to(device)\n",
    "train_embeds = torch.from_numpy(train_embeds).to(device)\n",
    "\n",
    "y_score = torch.mm(test_embeds,train_embeds.T)\n",
    "y_score = y_score.cpu().data.numpy()\n",
    "\n",
    "top_k_accuracy_score(tests_class, y_score, k=5, normalize=True, labels=list(range(len(lang_occupation_occupations))))"
   ]
  },
  {
   "cell_type": "markdown",
   "id": "abc43fb5-56b7-4334-a513-857a9a237180",
   "metadata": {},
   "source": [
    "# save embeds and class index"
   ]
  },
  {
   "cell_type": "code",
   "execution_count": 15,
   "id": "d743f4c1-12e6-4923-b586-f8505736c118",
   "metadata": {},
   "outputs": [],
   "source": [
    "with open('embeds.pickle', 'wb') as handle:\n",
    "    pickle.dump(train_embeds, handle, protocol=pickle.HIGHEST_PROTOCOL)\n"
   ]
  },
  {
   "cell_type": "code",
   "execution_count": null,
   "id": "88941ca7-f9ab-490f-8d79-aeecbdfa63a0",
   "metadata": {},
   "outputs": [],
   "source": [
    "train_classes = [class_map[i] for i in range(len(class_map))]\n",
    "with open('classes.pickle', 'wb') as handle:\n",
    "    pickle.dump(train_classes, handle, protocol=pickle.HIGHEST_PROTOCOL)\n"
   ]
  }
 ],
 "metadata": {
  "kernelspec": {
   "display_name": "Python 3 (ipykernel)",
   "language": "python",
   "name": "python3"
  },
  "language_info": {
   "codemirror_mode": {
    "name": "ipython",
    "version": 3
   },
   "file_extension": ".py",
   "mimetype": "text/x-python",
   "name": "python",
   "nbconvert_exporter": "python",
   "pygments_lexer": "ipython3",
   "version": "3.8.10"
  }
 },
 "nbformat": 4,
 "nbformat_minor": 5
}
